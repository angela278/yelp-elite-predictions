{
 "cells": [
  {
   "cell_type": "code",
   "execution_count": 1,
   "metadata": {},
   "outputs": [],
   "source": [
    "%matplotlib inline\n",
    "import matplotlib.pyplot as plt\n",
    "import pandas as pd\n",
    "import numpy as np\n",
    "import ast\n",
    "from collections import defaultdict\n",
    "import statsmodels.api as sm\n",
    "import statsmodels.formula.api as smf\n",
    "from sklearn import linear_model\n",
    "from sklearn import svm\n",
    "from sklearn.metrics import mean_squared_error\n",
    "from sklearn.metrics import accuracy_score\n",
    "from sklearn.model_selection import KFold\n",
    "from random import shuffle"
   ]
  },
  {
   "cell_type": "code",
   "execution_count": 2,
   "metadata": {},
   "outputs": [],
   "source": [
    "def parseData(fname):\n",
    "    for l in open(fname):\n",
    "        yield ast.literal_eval(l)"
   ]
  },
  {
   "cell_type": "code",
   "execution_count": 3,
   "metadata": {},
   "outputs": [],
   "source": [
    "userData=list(parseData(\"yelp_dataset/yelp_academic_dataset_user.json\"))"
   ]
  },
  {
   "cell_type": "code",
   "execution_count": 4,
   "metadata": {},
   "outputs": [],
   "source": [
    "tipData=list(parseData(\"yelp_dataset/yelp_academic_dataset_tip.json\"))"
   ]
  },
  {
   "cell_type": "code",
   "execution_count": 5,
   "metadata": {},
   "outputs": [],
   "source": [
    "reviewData=list(parseData(\"yelp_dataset/yelp_academic_dataset_review.json\"))"
   ]
  },
  {
   "cell_type": "code",
   "execution_count": 22,
   "metadata": {},
   "outputs": [],
   "source": [
    "# Not being used\n",
    "eliteData = []\n",
    "noneliteData = []\n",
    "for u in userData:\n",
    "    if not 'None' in u['elite']:\n",
    "        eliteData.append(u)\n",
    "    else:\n",
    "        noneliteData.append(u)"
   ]
  },
  {
   "cell_type": "code",
   "execution_count": 69,
   "metadata": {},
   "outputs": [],
   "source": [
    "eliteIDs = []\n",
    "for u in userData:\n",
    "    if not 'None' in u['elite']:\n",
    "        eliteIDs.append(u[\"user_id\"])"
   ]
  },
  {
   "cell_type": "code",
   "execution_count": 223,
   "metadata": {},
   "outputs": [
    {
     "data": {
      "text/plain": [
       "224.69235124945985"
      ]
     },
     "execution_count": 223,
     "metadata": {},
     "output_type": "execute_result"
    }
   ],
   "source": [
    "# Not being used\n",
    "eliteNumReviews = []\n",
    "for e in eliteData:\n",
    "    eliteNumReviews.append(e[\"review_count\"])\n",
    "avgNumReviews = np.mean(eliteNumReviews)\n",
    "avgNumReviews"
   ]
  },
  {
   "cell_type": "code",
   "execution_count": 17,
   "metadata": {},
   "outputs": [
    {
     "name": "stdout",
     "output_type": "stream",
     "text": [
      "0.9557960938472594\n"
     ]
    }
   ],
   "source": [
    "# BASELINE: Predicting not-elite for every user\n",
    "predictions = [0 for u in userData]\n",
    "correct = (predictions == df[\"elite\"])\n",
    "print(sum(correct) / len(correct))"
   ]
  },
  {
   "cell_type": "code",
   "execution_count": 18,
   "metadata": {},
   "outputs": [],
   "source": [
    "# BASELINE #2: Usin closeness to elite vs non-elite averages\n",
    "eReviews = []\n",
    "nReviews = []\n",
    "eFriends = []\n",
    "nFriends = []\n",
    "eCompliments = []\n",
    "nCompliments = []\n",
    "eVotes = []\n",
    "nVotes = []\n",
    "for i, row in df.iterrows():\n",
    "    if row[\"elite\"] == 0:\n",
    "        nReviews.append(row[\"numReviews\"])\n",
    "        nFriends.append(row[\"numFriends\"])\n",
    "        nCompliments.append(row[\"numCompliments\"])\n",
    "        nVotes.append(row[\"numVotes\"])\n",
    "    else:\n",
    "        eReviews.append(row[\"numReviews\"])\n",
    "        eFriends.append(row[\"numFriends\"])\n",
    "        eCompliments.append(row[\"numCompliments\"])\n",
    "        eVotes.append(row[\"numVotes\"])\n",
    "eReviewsAvg = np.mean(eReviews)\n",
    "nReviewsAvg = np.mean(nReviews)\n",
    "eFriendsAvg = np.mean(eFriends)\n",
    "nFriendsAvg = np.mean(nFriends)\n",
    "eComplimentsAvg = np.mean(eCompliments)\n",
    "nComplimentsAvg = np.mean(nCompliments)\n",
    "eVotesAvg = np.mean(eVotes)\n",
    "nVotesAvg = np.mean(nVotes)"
   ]
  },
  {
   "cell_type": "code",
   "execution_count": 19,
   "metadata": {},
   "outputs": [],
   "source": [
    "def findCloserAvg(user_avg, elite_avg, non_elite_avg):\n",
    "    mid = (elite_avg + non_elite_avg) / 2\n",
    "    if user_avg >= mid:\n",
    "        return 1\n",
    "    else:\n",
    "        return 0"
   ]
  },
  {
   "cell_type": "code",
   "execution_count": 20,
   "metadata": {},
   "outputs": [],
   "source": [
    "points = []\n",
    "for i,row in df.iterrows():\n",
    "    point = 0\n",
    "    if findCloserAvg(row[\"numReviews\"], eReviewsAvg, nReviewsAvg):\n",
    "        point += 1\n",
    "    if findCloserAvg(row[\"numFriends\"], eFriendsAvg, nFriendsAvg):\n",
    "        point += 1\n",
    "    if findCloserAvg(row[\"numCompliments\"], eComplimentsAvg, nComplimentsAvg):\n",
    "        point += 1\n",
    "    if findCloserAvg(row[\"numVotes\"], eVotesAvg, nVotesAvg):\n",
    "        point += 1\n",
    "    points.append(point)"
   ]
  },
  {
   "cell_type": "code",
   "execution_count": 21,
   "metadata": {},
   "outputs": [
    {
     "name": "stdout",
     "output_type": "stream",
     "text": [
      "0.04003506855956089\n",
      "0.9599649314404392\n"
     ]
    }
   ],
   "source": [
    "pre = []\n",
    "for p in points:\n",
    "    if p == 4:\n",
    "        pre.append(1)\n",
    "    else:\n",
    "        pre.append(0)\n",
    "print(mean_squared_error(df[\"elite\"], pre))\n",
    "print(accuracy_score(df[\"elite\"], pre))"
   ]
  },
  {
   "cell_type": "markdown",
   "metadata": {},
   "source": [
    "## Using Only the User Data"
   ]
  },
  {
   "cell_type": "code",
   "execution_count": 96,
   "metadata": {},
   "outputs": [],
   "source": [
    "def apr(yhat, true, threshold):\n",
    "    predictions = (yhat > threshold)\n",
    "    correct = (predictions == true)\n",
    "    truepos, trueneg, falsepos, falseneg = 0,0,0,0\n",
    "    for (a,b) in zip(predictions, true):\n",
    "        if a==True and b==True:\n",
    "            truepos+=1\n",
    "        elif a==False and b==False:\n",
    "            trueneg+=1\n",
    "        elif a==True and b==False:\n",
    "            falsepos+=1\n",
    "        else:\n",
    "            falseneg+=1\n",
    "    acc = sum(correct) / len(correct)\n",
    "    precision = truepos / (truepos + falsepos)\n",
    "    recall = truepos / (truepos + falseneg)\n",
    "    return acc, precision, recall"
   ]
  },
  {
   "cell_type": "code",
   "execution_count": 7,
   "metadata": {},
   "outputs": [],
   "source": [
    "def sumCompliments(user):\n",
    "    compliment_count = user[\"compliment_hot\"] + user[\"compliment_more\"]\n",
    "    + user[\"compliment_profile\"] + user[\"compliment_cute\"] + user[\"compliment_list\"]\n",
    "    + user[\"compliment_note\"] + user[\"compliment_plain\"] + user[\"compliment_cool\"]\n",
    "    + user[\"compliment_funny\"] + user[\"compliment_writer\"] + user[\"compliment_photos\"]\n",
    "    return compliment_count"
   ]
  },
  {
   "cell_type": "code",
   "execution_count": 8,
   "metadata": {},
   "outputs": [],
   "source": [
    "def sumVotes(user):\n",
    "    useful = user['useful']\n",
    "    funny = user['funny']\n",
    "    cool = user['cool']\n",
    "    return useful + funny + cool"
   ]
  },
  {
   "cell_type": "code",
   "execution_count": 9,
   "metadata": {},
   "outputs": [],
   "source": [
    "numReviews = []\n",
    "numCompliments = []\n",
    "numVotes = []\n",
    "numAvgRatings = []\n",
    "numFans = []\n",
    "numFriends = []\n",
    "elite = []\n",
    "for u in userData:\n",
    "    numReviews.append(u[\"review_count\"])\n",
    "    numCompliments.append(sumCompliments(u))\n",
    "    numVotes.append(sumVotes(u))\n",
    "    numAvgRatings.append(u[\"average_stars\"])\n",
    "    numFans.append(u[\"fans\"])\n",
    "    \n",
    "    if 'None' in u['friends']:\n",
    "        numFriends.append(0)\n",
    "    else:\n",
    "        numFriends.append(len(u['friends'].split(\", \")))\n",
    "    \n",
    "    if not 'None' in u['elite']:\n",
    "        elite.append(1)\n",
    "    else:\n",
    "        elite.append(0)"
   ]
  },
  {
   "cell_type": "code",
   "execution_count": 36,
   "metadata": {},
   "outputs": [],
   "source": [
    "df = pd.DataFrame()\n",
    "df['numReviews'] = numReviews\n",
    "df['numFriends'] = numFriends\n",
    "df['numCompliments'] = numCompliments\n",
    "df['numVotes'] = numVotes\n",
    "df['numFans'] = numFans\n",
    "df['numAvgRatings'] = numAvgRatings\n",
    "df['elite'] = elite"
   ]
  },
  {
   "cell_type": "code",
   "execution_count": 11,
   "metadata": {},
   "outputs": [
    {
     "data": {
      "text/plain": [
       "<matplotlib.axes._subplots.AxesSubplot at 0x1ef282ae10>"
      ]
     },
     "execution_count": 11,
     "metadata": {},
     "output_type": "execute_result"
    },
    {
     "data": {
      "image/png": "[encoded data removed]",
      "text/plain": [
       "<Figure size 432x288 with 1 Axes>"
      ]
     },
     "metadata": {
      "needs_background": "light"
     },
     "output_type": "display_data"
    }
   ],
   "source": [
    "df.boxplot(by=[\"elite\"], column=[\"numReviews\"], showfliers=False)"
   ]
  },
  {
   "cell_type": "code",
   "execution_count": 12,
   "metadata": {},
   "outputs": [
    {
     "data": {
      "text/plain": [
       "<matplotlib.axes._subplots.AxesSubplot at 0x1effd24668>"
      ]
     },
     "execution_count": 12,
     "metadata": {},
     "output_type": "execute_result"
    },
    {
     "data": {
      "image/png": "[encoded data removed]",
      "text/plain": [
       "<Figure size 432x288 with 1 Axes>"
      ]
     },
     "metadata": {
      "needs_background": "light"
     },
     "output_type": "display_data"
    }
   ],
   "source": [
    "df.boxplot(by=[\"elite\"], column=[\"numFriends\"], showfliers=False)"
   ]
  },
  {
   "cell_type": "code",
   "execution_count": 13,
   "metadata": {},
   "outputs": [
    {
     "data": {
      "text/plain": [
       "<matplotlib.axes._subplots.AxesSubplot at 0x1ef6775e10>"
      ]
     },
     "execution_count": 13,
     "metadata": {},
     "output_type": "execute_result"
    },
    {
     "data": {
      "image/png": "[encoded data removed]",
      "text/plain": [
       "<Figure size 432x288 with 1 Axes>"
      ]
     },
     "metadata": {
      "needs_background": "light"
     },
     "output_type": "display_data"
    }
   ],
   "source": [
    "df.boxplot(by=[\"elite\"], column=[\"numCompliments\"], showfliers=False)"
   ]
  },
  {
   "cell_type": "code",
   "execution_count": 14,
   "metadata": {},
   "outputs": [
    {
     "data": {
      "text/plain": [
       "<matplotlib.axes._subplots.AxesSubplot at 0x1ef46220b8>"
      ]
     },
     "execution_count": 14,
     "metadata": {},
     "output_type": "execute_result"
    },
    {
     "data": {
      "image/png": "[encoded data removed]",
      "text/plain": [
       "<Figure size 432x288 with 1 Axes>"
      ]
     },
     "metadata": {
      "needs_background": "light"
     },
     "output_type": "display_data"
    }
   ],
   "source": [
    "df.boxplot(by=[\"elite\"], column=[\"numVotes\"], showfliers=False)"
   ]
  },
  {
   "cell_type": "code",
   "execution_count": 15,
   "metadata": {},
   "outputs": [
    {
     "data": {
      "text/plain": [
       "<matplotlib.axes._subplots.AxesSubplot at 0x1c1cc285c0>"
      ]
     },
     "execution_count": 15,
     "metadata": {},
     "output_type": "execute_result"
    },
    {
     "data": {
      "image/png": "[encoded data removed]",
      "text/plain": [
       "<Figure size 432x288 with 1 Axes>"
      ]
     },
     "metadata": {
      "needs_background": "light"
     },
     "output_type": "display_data"
    }
   ],
   "source": [
    "df.boxplot(by=[\"elite\"], column=[\"numFans\"], showfliers=False)"
   ]
  },
  {
   "cell_type": "code",
   "execution_count": 16,
   "metadata": {},
   "outputs": [
    {
     "data": {
      "text/plain": [
       "<matplotlib.axes._subplots.AxesSubplot at 0x1ef46a05c0>"
      ]
     },
     "execution_count": 16,
     "metadata": {},
     "output_type": "execute_result"
    },
    {
     "data": {
      "image/png": "[encoded data removed]",
      "text/plain": [
       "<Figure size 432x288 with 1 Axes>"
      ]
     },
     "metadata": {
      "needs_background": "light"
     },
     "output_type": "display_data"
    }
   ],
   "source": [
    "df.boxplot(by=[\"elite\"], column=[\"numAvgRatings\"])"
   ]
  },
  {
   "cell_type": "markdown",
   "metadata": {},
   "source": [
    "Looks like most of these features will be able to pretty accurately predict eliteness since the boxplots between elite and non-elite are quite different. For number of average ratings the values are similar but the variance is not."
   ]
  },
  {
   "cell_type": "code",
   "execution_count": 25,
   "metadata": {},
   "outputs": [],
   "source": [
    "def log_normalization(val):\n",
    "    if val > 0:\n",
    "        return np.log(val)\n",
    "    else:\n",
    "        return np.log(val + .001)"
   ]
  },
  {
   "cell_type": "code",
   "execution_count": 37,
   "metadata": {},
   "outputs": [],
   "source": [
    "df_init = df.copy()\n",
    "for d in df:\n",
    "    if d == 'numAvgRatings' or d == 'elite':\n",
    "        continue\n",
    "    df[d] = df[d].apply(log_normalization)"
   ]
  },
  {
   "cell_type": "code",
   "execution_count": 38,
   "metadata": {},
   "outputs": [
    {
     "name": "stdout",
     "output_type": "stream",
     "text": [
      "                           Logit Regression Results                           \n",
      "==============================================================================\n",
      "Dep. Variable:                  elite   No. Observations:              1518169\n",
      "Model:                          Logit   Df Residuals:                  1518167\n",
      "Method:                           MLE   Df Model:                            1\n",
      "Date:                Sun, 02 Dec 2018   Pseudo R-squ.:                  0.6377\n",
      "Time:                        21:29:22   Log-Likelihood:                -99591.\n",
      "converged:                       True   LL-Null:                   -2.7491e+05\n",
      "                                        LLR p-value:                     0.000\n",
      "==============================================================================\n",
      "                 coef    std err          z      P>|z|      [0.025      0.975]\n",
      "------------------------------------------------------------------------------\n",
      "Intercept    -11.8682      0.035   -338.333      0.000     -11.937     -11.799\n",
      "numReviews     2.4474      0.008    310.524      0.000       2.432       2.463\n",
      "==============================================================================\n",
      "\n",
      "Possibly complete quasi-separation: A fraction 0.31 of observations can be\n",
      "perfectly predicted. This might indicate that there is complete\n",
      "quasi-separation. In this case some parameters will not be identified.\n",
      "                           Logit Regression Results                           \n",
      "==============================================================================\n",
      "Dep. Variable:                  elite   No. Observations:              1518169\n",
      "Model:                          Logit   Df Residuals:                  1518167\n",
      "Method:                           MLE   Df Model:                            1\n",
      "Date:                Sun, 02 Dec 2018   Pseudo R-squ.:                  0.2536\n",
      "Time:                        21:29:27   Log-Likelihood:            -2.0518e+05\n",
      "converged:                       True   LL-Null:                   -2.7491e+05\n",
      "                                        LLR p-value:                     0.000\n",
      "==============================================================================\n",
      "                 coef    std err          z      P>|z|      [0.025      0.975]\n",
      "------------------------------------------------------------------------------\n",
      "Intercept     -5.1186      0.014   -357.614      0.000      -5.147      -5.091\n",
      "numFriends     0.6891      0.003    222.766      0.000       0.683       0.695\n",
      "==============================================================================\n",
      "\n",
      "Possibly complete quasi-separation: A fraction 0.42 of observations can be\n",
      "perfectly predicted. This might indicate that there is complete\n",
      "quasi-separation. In this case some parameters will not be identified.\n",
      "                           Logit Regression Results                           \n",
      "==============================================================================\n",
      "Dep. Variable:                  elite   No. Observations:              1518169\n",
      "Model:                          Logit   Df Residuals:                  1518167\n",
      "Method:                           MLE   Df Model:                            1\n",
      "Date:                Sun, 02 Dec 2018   Pseudo R-squ.:                  0.4974\n",
      "Time:                        21:29:31   Log-Likelihood:            -1.3816e+05\n",
      "converged:                       True   LL-Null:                   -2.7491e+05\n",
      "                                        LLR p-value:                     0.000\n",
      "==================================================================================\n",
      "                     coef    std err          z      P>|z|      [0.025      0.975]\n",
      "----------------------------------------------------------------------------------\n",
      "Intercept         -1.3950      0.005   -280.687      0.000      -1.405      -1.385\n",
      "numCompliments     0.6173      0.002    347.452      0.000       0.614       0.621\n",
      "==================================================================================\n",
      "                           Logit Regression Results                           \n",
      "==============================================================================\n",
      "Dep. Variable:                  elite   No. Observations:              1518169\n",
      "Model:                          Logit   Df Residuals:                  1518167\n",
      "Method:                           MLE   Df Model:                            1\n",
      "Date:                Sun, 02 Dec 2018   Pseudo R-squ.:                  0.3832\n",
      "Time:                        21:29:36   Log-Likelihood:            -1.6957e+05\n",
      "converged:                       True   LL-Null:                   -2.7491e+05\n",
      "                                        LLR p-value:                     0.000\n",
      "==============================================================================\n",
      "                 coef    std err          z      P>|z|      [0.025      0.975]\n",
      "------------------------------------------------------------------------------\n",
      "Intercept     -4.2178      0.009   -449.708      0.000      -4.236      -4.199\n",
      "numVotes       0.7240      0.002    293.836      0.000       0.719       0.729\n",
      "==============================================================================\n",
      "\n",
      "Possibly complete quasi-separation: A fraction 0.52 of observations can be\n",
      "perfectly predicted. This might indicate that there is complete\n",
      "quasi-separation. In this case some parameters will not be identified.\n",
      "                           Logit Regression Results                           \n",
      "==============================================================================\n",
      "Dep. Variable:                  elite   No. Observations:              1518169\n",
      "Model:                          Logit   Df Residuals:                  1518167\n",
      "Method:                           MLE   Df Model:                            1\n",
      "Date:                Sun, 02 Dec 2018   Pseudo R-squ.:                  0.5476\n",
      "Time:                        21:29:40   Log-Likelihood:            -1.2436e+05\n",
      "converged:                       True   LL-Null:                   -2.7491e+05\n",
      "                                        LLR p-value:                     0.000\n",
      "==============================================================================\n",
      "                 coef    std err          z      P>|z|      [0.025      0.975]\n",
      "------------------------------------------------------------------------------\n",
      "Intercept     -2.7194      0.008   -337.831      0.000      -2.735      -2.704\n",
      "numFans        1.1760      0.005    248.783      0.000       1.167       1.185\n",
      "==============================================================================\n",
      "\n",
      "Possibly complete quasi-separation: A fraction 0.78 of observations can be\n",
      "perfectly predicted. This might indicate that there is complete\n",
      "quasi-separation. In this case some parameters will not be identified.\n",
      "                           Logit Regression Results                           \n",
      "==============================================================================\n",
      "Dep. Variable:                  elite   No. Observations:              1518169\n",
      "Model:                          Logit   Df Residuals:                  1518167\n",
      "Method:                           MLE   Df Model:                            1\n",
      "Date:                Sun, 02 Dec 2018   Pseudo R-squ.:                0.002275\n",
      "Time:                        21:29:44   Log-Likelihood:            -2.7429e+05\n",
      "converged:                       True   LL-Null:                   -2.7491e+05\n",
      "                                        LLR p-value:                5.523e-274\n",
      "=================================================================================\n",
      "                    coef    std err          z      P>|z|      [0.025      0.975]\n",
      "---------------------------------------------------------------------------------\n",
      "Intercept        -3.5599      0.015   -239.837      0.000      -3.589      -3.531\n",
      "numAvgRatings     0.1283      0.004     34.607      0.000       0.121       0.136\n",
      "=================================================================================\n",
      "[0.020107469689855398, 0.03703993903382854, 0.02337348211342376, 0.029742577903261097, 0.021138227481315965, 0.042243996167484914]\n"
     ]
    }
   ],
   "source": [
    "mse1=[]\n",
    "for d in df:\n",
    "    if d == 'elite':\n",
    "        break\n",
    "    formula = 'elite ~ ' + d\n",
    "    model=smf.logit(formula, data=df).fit(disp=0)\n",
    "    yhat1 = model.predict(df[d])\n",
    "    mse1.append(mean_squared_error(df[\"elite\"], yhat1))\n",
    "    print(model.summary())\n",
    "print(mse1)"
   ]
  },
  {
   "cell_type": "code",
   "execution_count": 64,
   "metadata": {},
   "outputs": [
    {
     "data": {
      "text/plain": [
       "Text(0.5,1,'MSE of Each User Feature Separately')"
      ]
     },
     "execution_count": 64,
     "metadata": {},
     "output_type": "execute_result"
    },
    {
     "data": {
      "image/png": "[encoded data removed]",
      "text/plain": [
       "<Figure size 432x288 with 1 Axes>"
      ]
     },
     "metadata": {
      "needs_background": "light"
     },
     "output_type": "display_data"
    }
   ],
   "source": [
    "features = ['numReviews', 'numFriends', 'numCompliments', 'numVotes', 'numFans', 'numAvgRatings']\n",
    "plt.scatter(features,mse1)\n",
    "plt.xlabel(\"Feature\")\n",
    "plt.ylabel(\"Mean Squared Error\")\n",
    "plt.title(\"MSE of Each User Feature Separately\")"
   ]
  },
  {
   "cell_type": "code",
   "execution_count": 115,
   "metadata": {},
   "outputs": [
    {
     "data": {
      "text/plain": [
       "(0.022, 0.023)"
      ]
     },
     "execution_count": 115,
     "metadata": {},
     "output_type": "execute_result"
    },
    {
     "data": {
      "image/png": "[encoded data removed]",
      "text/plain": [
       "<Figure size 432x288 with 1 Axes>"
      ]
     },
     "metadata": {
      "needs_background": "light"
     },
     "output_type": "display_data"
    }
   ],
   "source": [
    "plt.scatter(features[1:],mse2)\n",
    "plt.xlabel(\"Feature\")\n",
    "plt.ylabel(\"Mean Squared Error\")\n",
    "plt.title(\"MSE of the Lowest MSE Feature (numReviews) and One Other Feature\")\n",
    "plt.ylim((0.022, 0.023)) "
   ]
  },
  {
   "cell_type": "code",
   "execution_count": 184,
   "metadata": {},
   "outputs": [
    {
     "name": "stdout",
     "output_type": "stream",
     "text": [
      "Optimization terminated successfully.\n",
      "         Current function value: 0.089151\n",
      "         Iterations 10\n",
      "Optimization terminated successfully.\n",
      "         Current function value: 0.089193\n",
      "         Iterations 9\n",
      "Optimization terminated successfully.\n",
      "         Current function value: 0.088617\n",
      "         Iterations 9\n",
      "[0.02203510322082871, 0.022114650797740137, 0.0219505002452953]\n"
     ]
    }
   ],
   "source": [
    "mse3=[]\n",
    "for d in df:\n",
    "    if d == 'elite' or d == 'numReviews' or d == 'numFriends':\n",
    "        continue\n",
    "    formula = 'elite ~ numReviews + numFriends + ' + d\n",
    "    model=smf.logit(formula, data=df).fit()\n",
    "    yhat3 = model.predict(df[['numReviews', 'numFriends', d]])\n",
    "    mse3.append(mean_squared_error(df[\"elite\"], yhat3))\n",
    "print(mse3)"
   ]
  },
  {
   "cell_type": "code",
   "execution_count": 120,
   "metadata": {},
   "outputs": [
    {
     "data": {
      "text/plain": [
       "(0.0218, 0.0222)"
      ]
     },
     "execution_count": 120,
     "metadata": {},
     "output_type": "execute_result"
    },
    {
     "data": {
      "image/png": "[encoded data removed]",
      "text/plain": [
       "<Figure size 432x288 with 1 Axes>"
      ]
     },
     "metadata": {
      "needs_background": "light"
     },
     "output_type": "display_data"
    }
   ],
   "source": [
    "plt.scatter(features[2:],mse3)\n",
    "plt.xlabel(\"Feature\")\n",
    "plt.ylabel(\"Mean Squared Error\")\n",
    "plt.title(\"MSE of the 2 Lowest MSE Features (numReviews, numFriends) and One Other Feature\")\n",
    "plt.ylim((0.0218, 0.0222))"
   ]
  },
  {
   "cell_type": "code",
   "execution_count": 185,
   "metadata": {},
   "outputs": [
    {
     "name": "stdout",
     "output_type": "stream",
     "text": [
      "Optimization terminated successfully.\n",
      "         Current function value: 0.088567\n",
      "         Iterations 10\n",
      "Optimization terminated successfully.\n",
      "         Current function value: 0.088609\n",
      "         Iterations 9\n",
      "[0.021879337456883984, 0.02195663183623636]\n"
     ]
    }
   ],
   "source": [
    "mse4=[]\n",
    "for d in df:\n",
    "    if d == 'elite' or d == 'numReviews' or d == 'numFriends' or d == 'numAvgRatings':\n",
    "        continue\n",
    "    formula = 'elite ~ numReviews + numFriends + numAvgRatings + ' + d\n",
    "    model=smf.logit(formula, data=df).fit()\n",
    "    yhat4 = model.predict(df[['numReviews', 'numFriends', 'numAvgRatings', d]])\n",
    "    mse4.append(mean_squared_error(df[\"elite\"], yhat4))\n",
    "print(mse4)"
   ]
  },
  {
   "cell_type": "code",
   "execution_count": 124,
   "metadata": {},
   "outputs": [
    {
     "data": {
      "text/plain": [
       "(0.0218, 0.022)"
      ]
     },
     "execution_count": 124,
     "metadata": {},
     "output_type": "execute_result"
    },
    {
     "data": {
      "image/png": "[encoded data removed]",
      "text/plain": [
       "<Figure size 432x288 with 1 Axes>"
      ]
     },
     "metadata": {
      "needs_background": "light"
     },
     "output_type": "display_data"
    }
   ],
   "source": [
    "plt.scatter(features[2:4],mse4)\n",
    "plt.xlabel(\"Feature\")\n",
    "plt.ylabel(\"Mean Squared Error\")\n",
    "plt.title(\"MSE of the 3 Lowest MSE Features (numReviews, numFriends, numAvgRatings) and One Other Feature\")\n",
    "plt.ylim((0.0218, 0.022))"
   ]
  },
  {
   "cell_type": "code",
   "execution_count": 94,
   "metadata": {},
   "outputs": [
    {
     "name": "stdout",
     "output_type": "stream",
     "text": [
      "                           Logit Regression Results                           \n",
      "==============================================================================\n",
      "Dep. Variable:                  elite   No. Observations:              1518169\n",
      "Model:                          Logit   Df Residuals:                  1518162\n",
      "Method:                           MLE   Df Model:                            6\n",
      "Date:                Mon, 03 Dec 2018   Pseudo R-squ.:                  0.6958\n",
      "Time:                        00:40:43   Log-Likelihood:                -83622.\n",
      "converged:                       True   LL-Null:                   -2.7491e+05\n",
      "                                        LLR p-value:                     0.000\n",
      "==================================================================================\n",
      "                     coef    std err          z      P>|z|      [0.025      0.975]\n",
      "----------------------------------------------------------------------------------\n",
      "Intercept        -12.4442      0.081   -152.984      0.000     -12.604     -12.285\n",
      "numReviews         1.7361      0.010    174.319      0.000       1.717       1.756\n",
      "numFriends         0.1904      0.004     51.436      0.000       0.183       0.198\n",
      "numAvgRatings      0.8416      0.016     54.154      0.000       0.811       0.872\n",
      "numCompliments     0.1561      0.002     77.561      0.000       0.152       0.160\n",
      "numVotes          -0.0082      0.002     -3.331      0.001      -0.013      -0.003\n",
      "numFans            0.1611      0.003     47.544      0.000       0.154       0.168\n",
      "==================================================================================\n",
      "\n",
      "Possibly complete quasi-separation: A fraction 0.45 of observations can be\n",
      "perfectly predicted. This might indicate that there is complete\n",
      "quasi-separation. In this case some parameters will not be identified.\n"
     ]
    }
   ],
   "source": [
    "features = ['numReviews', 'numFriends', 'numCompliments', 'numVotes', 'numFans', 'numAvgRatings']\n",
    "formula = 'elite ~ numReviews + numFriends + numAvgRatings + numCompliments + numVotes + numFans'\n",
    "model=smf.logit(formula, data=df).fit(disp=0)\n",
    "yhat6 = model.predict(df[features])\n",
    "mse6 = mean_squared_error(df[\"elite\"], yhat6)\n",
    "print(model.summary())"
   ]
  },
  {
   "cell_type": "code",
   "execution_count": 107,
   "metadata": {},
   "outputs": [
    {
     "name": "stdout",
     "output_type": "stream",
     "text": [
      "0.01670097434236711\n",
      "(0.9764031540625583, 0.7325780216185676, 0.73419362529616)\n"
     ]
    }
   ],
   "source": [
    "print(mse6)\n",
    "print(apr(yhat6, df[\"elite\"], 0.4))"
   ]
  },
  {
   "cell_type": "code",
   "execution_count": 66,
   "metadata": {},
   "outputs": [
    {
     "name": "stdout",
     "output_type": "stream",
     "text": [
      "The average training error is 0.016700911998193856\n",
      "The average training accuracy is 0.9764057888140559\n",
      "The average training precision is 0.7326043381687206\n",
      "The average training recall is 0.7342297599601728\n",
      "The average testing error is 0.016702056891374537\n",
      "The average testing accuracy is 0.9764038126825442\n",
      "The average testing precision is 0.7325737645162982\n",
      "The average testing recall is 0.7341920466530254\n"
     ]
    }
   ],
   "source": [
    "mse_train = []\n",
    "acc_train = []\n",
    "prec_train = []\n",
    "rec_train = []\n",
    "mse_test = []\n",
    "acc_test = []\n",
    "prec_test = []\n",
    "rec_test = []\n",
    "formula = 'elite ~ numReviews + numFriends + numAvgRatings + numCompliments + numVotes + numFans'\n",
    "kf = KFold(n_splits=10, shuffle=True)\n",
    "for train_index, test_index in kf.split(df):\n",
    "    df_train = df.iloc[train_index, :]\n",
    "    df_test = df.iloc[test_index, :]\n",
    "    mod = smf.logit(formula, data=df_train).fit(disp=0)\n",
    "    yhat_train = mod.predict(df_train[features])\n",
    "    mse_train.append(mean_squared_error(df_train[\"elite\"], yhat_train))\n",
    "    a,p,r = apr(yhat_train, df_train[\"elite\"], 0.4)\n",
    "    acc_train.append(a)\n",
    "    prec_train.append(p)\n",
    "    rec_train.append(r)\n",
    "    yhat_test = mod.predict(df_test[features])\n",
    "    mse_test.append(mean_squared_error(df_test[\"elite\"], yhat_test))\n",
    "    a,p,r = apr(yhat_test, df_test[\"elite\"], 0.4)\n",
    "    acc_test.append(a)\n",
    "    prec_test.append(p)\n",
    "    rec_test.append(r)\n",
    "print(\"The average training error is \" + str(np.mean(mse_train)))\n",
    "print(\"The average training accuracy is \" + str(np.mean(acc_train)))\n",
    "print(\"The average training precision is \" + str(np.mean(prec_train)))\n",
    "print(\"The average training recall is \" + str(np.mean(rec_train)))\n",
    "print(\"The average testing error is \" + str(np.mean(mse_test)))\n",
    "print(\"The average testing accuracy is \" + str(np.mean(acc_test)))\n",
    "print(\"The average testing precision is \" + str(np.mean(prec_test)))\n",
    "print(\"The average testing recall is \" + str(np.mean(rec_test)))"
   ]
  },
  {
   "cell_type": "markdown",
   "metadata": {},
   "source": [
    "I wanted to see if the features used would be redundant at some point, and used a forward stepwise selection to choose the best features one by one. However in this case, the model with the lowest MSE and best accuracy still ended up being the one using all the features, which I guess makes sense and is okay since we only have 5 features total here. I used K-fold cross validation to check that the testing error and accuracy wouldn't be wildly different from training, which is wasn't. I chose 0.3 for the accuracy threshold since that seemed to produce the best results."
   ]
  },
  {
   "cell_type": "markdown",
   "metadata": {},
   "source": [
    "## Some Extra Friend Data"
   ]
  },
  {
   "cell_type": "code",
   "execution_count": 75,
   "metadata": {},
   "outputs": [],
   "source": [
    "eliteIDs = set(eliteIDs)"
   ]
  },
  {
   "cell_type": "code",
   "execution_count": 100,
   "metadata": {},
   "outputs": [],
   "source": [
    "sumEliteFriends = []\n",
    "ratioEliteFriends = []\n",
    "for u in userData:\n",
    "    if not 'None' in u['friends']:\n",
    "        friends = u['friends'].split(\", \")\n",
    "        sumE = 0\n",
    "        for f in friends:\n",
    "            if f in eliteIDs:\n",
    "                sumE += 1\n",
    "        sumEliteFriends.append(sumE)\n",
    "        ratioEliteFriends.append(sumE * 1.0/len(friends))\n",
    "    else:\n",
    "        sumEliteFriends.append(0)\n",
    "        ratioEliteFriends.append(0)"
   ]
  },
  {
   "cell_type": "code",
   "execution_count": 82,
   "metadata": {},
   "outputs": [],
   "source": [
    "df[\"sumEliteFriends\"] = sumEliteFriends\n",
    "df[\"ratioEliteFriends\"] = ratioEliteFriends\n",
    "df[\"sumEliteFriends\"]=df[\"sumEliteFriends\"].apply(log_normalization)\n",
    "0.015613203969927566\n",
    "(0.9779662211519271, 0.7463549595971425, 0.7597341638230342)"
   ]
  },
  {
   "cell_type": "code",
   "execution_count": 117,
   "metadata": {},
   "outputs": [
    {
     "name": "stdout",
     "output_type": "stream",
     "text": [
      "The average training error is 0.01566917845958966\n",
      "The average training accuracy is 0.9778225539373182\n",
      "The average training precision is 0.7436166800329566\n",
      "The average training recall is 0.7604935522684528\n",
      "The average testing error is 0.015671053157686708\n",
      "The average testing accuracy is 0.977812087942571\n",
      "The average testing precision is 0.74348751289832\n",
      "The average testing recall is 0.7604031008392563\n"
     ]
    }
   ],
   "source": [
    "features = ['numReviews', 'numFriends', 'numCompliments', 'numVotes', 'numFans', 'numAvgRatings', 'sumEliteFriends', 'ratioEliteFriends']\n",
    "formula = 'elite ~ numReviews + numFriends + numAvgRatings + numCompliments + numVotes + numFans + sumEliteFriends + ratioEliteFriends'\n",
    "mse_train = []\n",
    "acc_train = []\n",
    "prec_train = []\n",
    "rec_train = []\n",
    "mse_test = []\n",
    "acc_test = []\n",
    "prec_test = []\n",
    "rec_test = []\n",
    "kf = KFold(n_splits=10, shuffle=True)\n",
    "for train_index, test_index in kf.split(df):\n",
    "    df_train = df.iloc[train_index, :]\n",
    "    df_test = df.iloc[test_index, :]\n",
    "    mod = smf.logit(formula, data=df_train).fit(disp=0)\n",
    "    yhat_train = mod.predict(df_train[features])\n",
    "    mse_train.append(mean_squared_error(df_train[\"elite\"], yhat_train))\n",
    "    a,p,r = apr(yhat_train, df_train[\"elite\"], 0.4)\n",
    "    acc_train.append(a)\n",
    "    prec_train.append(p)\n",
    "    rec_train.append(r)\n",
    "    yhat_test = mod.predict(df_test[features])\n",
    "    mse_test.append(mean_squared_error(df_test[\"elite\"], yhat_test))\n",
    "    a,p,r = apr(yhat_test, df_test[\"elite\"], 0.4)\n",
    "    acc_test.append(a)\n",
    "    prec_test.append(p)\n",
    "    rec_test.append(r)\n",
    "print(\"The average training error is \" + str(np.mean(mse_train)))\n",
    "print(\"The average training accuracy is \" + str(np.mean(acc_train)))\n",
    "print(\"The average training precision is \" + str(np.mean(prec_train)))\n",
    "print(\"The average training recall is \" + str(np.mean(rec_train)))\n",
    "print(\"The average testing error is \" + str(np.mean(mse_test)))\n",
    "print(\"The average testing accuracy is \" + str(np.mean(acc_test)))\n",
    "print(\"The average testing precision is \" + str(np.mean(prec_test)))\n",
    "print(\"The average testing recall is \" + str(np.mean(rec_test)))"
   ]
  },
  {
   "cell_type": "code",
   "execution_count": 118,
   "metadata": {},
   "outputs": [
    {
     "name": "stdout",
     "output_type": "stream",
     "text": [
      "                           Logit Regression Results                           \n",
      "==============================================================================\n",
      "Dep. Variable:                  elite   No. Observations:              1366353\n",
      "Model:                          Logit   Df Residuals:                  1366345\n",
      "Method:                           MLE   Df Model:                            7\n",
      "Date:                Mon, 03 Dec 2018   Pseudo R-squ.:                  0.7144\n",
      "Time:                        01:15:29   Log-Likelihood:                -70740.\n",
      "converged:                       True   LL-Null:                   -2.4767e+05\n",
      "                                        LLR p-value:                     0.000\n",
      "===================================================================================\n",
      "                      coef    std err          z      P>|z|      [0.025      0.975]\n",
      "-----------------------------------------------------------------------------------\n",
      "Intercept         -11.3152      0.089   -127.375      0.000     -11.489     -11.141\n",
      "numReviews          1.6395      0.011    153.250      0.000       1.619       1.660\n",
      "numFriends         -0.0645      0.005    -13.135      0.000      -0.074      -0.055\n",
      "numAvgRatings       0.8366      0.017     48.907      0.000       0.803       0.870\n",
      "numCompliments      0.1103      0.002     50.168      0.000       0.106       0.115\n",
      "numVotes           -0.0357      0.003    -13.470      0.000      -0.041      -0.031\n",
      "numFans             0.1209      0.004     33.893      0.000       0.114       0.128\n",
      "sumEliteFriends     0.3487      0.005     74.318      0.000       0.339       0.358\n",
      "===================================================================================\n",
      "\n",
      "Possibly complete quasi-separation: A fraction 0.43 of observations can be\n",
      "perfectly predicted. This might indicate that there is complete\n",
      "quasi-separation. In this case some parameters will not be identified.\n"
     ]
    }
   ],
   "source": [
    "print(mod.summary())"
   ]
  },
  {
   "cell_type": "markdown",
   "metadata": {},
   "source": [
    "## Using Tip Data"
   ]
  },
  {
   "cell_type": "code",
   "execution_count": 67,
   "metadata": {},
   "outputs": [],
   "source": [
    "tipCounts = defaultdict(int)\n",
    "tipLikes = defaultdict(int)\n",
    "for t in tipData:\n",
    "    tipCounts[t[\"user_id\"]] += 1\n",
    "    tipLikes[t[\"user_id\"]] += t[\"likes\"]"
   ]
  },
  {
   "cell_type": "code",
   "execution_count": 121,
   "metadata": {},
   "outputs": [],
   "source": [
    "numTips = []\n",
    "numTipLikes = []\n",
    "numTipRatio = []\n",
    "for u in userData:\n",
    "    if u[\"user_id\"] in tipCounts:\n",
    "        numTips.append(tipCounts[u[\"user_id\"]])\n",
    "        numTipLikes.append(tipLikes[u[\"user_id\"]])\n",
    "        if tipLikes[u[\"user_id\"]] > 0:\n",
    "            numTipRatio.append(tipLikes[u[\"user_id\"]]/(tipCounts[u[\"user_id\"]]*1.0))\n",
    "        else:\n",
    "            numTipRatio.append(0)\n",
    "    else:\n",
    "        numTips.append(0)\n",
    "        numTipLikes.append(0)\n",
    "        numTipRatio.append(0)"
   ]
  },
  {
   "cell_type": "code",
   "execution_count": 122,
   "metadata": {},
   "outputs": [],
   "source": [
    "df['numTips'] = numTips\n",
    "df['numTipLikes'] = numTipLikes\n",
    "df['numTipRatio'] = numTipRatio"
   ]
  },
  {
   "cell_type": "code",
   "execution_count": 128,
   "metadata": {},
   "outputs": [],
   "source": [
    "df['numTips'] = df['numTips'].apply(log_normalization)\n",
    "df['numTipLikes'] = df['numTipLikes'].apply(log_normalization)"
   ]
  },
  {
   "cell_type": "code",
   "execution_count": 130,
   "metadata": {},
   "outputs": [
    {
     "name": "stdout",
     "output_type": "stream",
     "text": [
      "                           Logit Regression Results                           \n",
      "==============================================================================\n",
      "Dep. Variable:                  elite   No. Observations:              1518169\n",
      "Model:                          Logit   Df Residuals:                  1518167\n",
      "Method:                           MLE   Df Model:                            1\n",
      "Date:                Mon, 03 Dec 2018   Pseudo R-squ.:                 0.02428\n",
      "Time:                        01:28:47   Log-Likelihood:            -2.6824e+05\n",
      "converged:                       True   LL-Null:                   -2.7491e+05\n",
      "                                        LLR p-value:                     0.000\n",
      "==============================================================================\n",
      "                 coef    std err          z      P>|z|      [0.025      0.975]\n",
      "------------------------------------------------------------------------------\n",
      "Intercept     -2.4533      0.006   -416.491      0.000      -2.465      -2.442\n",
      "numTips        0.1299      0.001    121.523      0.000       0.128       0.132\n",
      "==============================================================================\n",
      "                           Logit Regression Results                           \n",
      "==============================================================================\n",
      "Dep. Variable:                  elite   No. Observations:              1518169\n",
      "Model:                          Logit   Df Residuals:                  1518167\n",
      "Method:                           MLE   Df Model:                            1\n",
      "Date:                Mon, 03 Dec 2018   Pseudo R-squ.:                 0.01398\n",
      "Time:                        01:28:51   Log-Likelihood:            -2.7107e+05\n",
      "converged:                       True   LL-Null:                   -2.7491e+05\n",
      "                                        LLR p-value:                     0.000\n",
      "===============================================================================\n",
      "                  coef    std err          z      P>|z|      [0.025      0.975]\n",
      "-------------------------------------------------------------------------------\n",
      "Intercept      -0.8352      0.021    -38.949      0.000      -0.877      -0.793\n",
      "numTipLikes     0.3300      0.003    104.649      0.000       0.324       0.336\n",
      "===============================================================================\n",
      "                           Logit Regression Results                           \n",
      "==============================================================================\n",
      "Dep. Variable:                  elite   No. Observations:              1518169\n",
      "Model:                          Logit   Df Residuals:                  1518167\n",
      "Method:                           MLE   Df Model:                            1\n",
      "Date:                Mon, 03 Dec 2018   Pseudo R-squ.:                0.001400\n",
      "Time:                        01:28:56   Log-Likelihood:            -2.7453e+05\n",
      "converged:                       True   LL-Null:                   -2.7491e+05\n",
      "                                        LLR p-value:                1.894e-169\n",
      "===============================================================================\n",
      "                  coef    std err          z      P>|z|      [0.025      0.975]\n",
      "-------------------------------------------------------------------------------\n",
      "Intercept      -3.0796      0.004   -777.444      0.000      -3.087      -3.072\n",
      "numTipRatio     1.8918      0.061     31.111      0.000       1.773       2.011\n",
      "===============================================================================\n"
     ]
    }
   ],
   "source": [
    "mse1_tip = []\n",
    "acc1_tip = []\n",
    "for d in df:\n",
    "    if d == \"numTips\" or d == \"numTipLikes\" or d == \"numTipRatio\":\n",
    "        formula = 'elite ~ ' + d\n",
    "        model=smf.logit(formula, data=df).fit(disp=0)\n",
    "        yhat1_tip = model.predict(df[d])\n",
    "        #mse1_tip.append(mean_squared_error(df_tip[\"elite\"], yhat1_tip))\n",
    "        #acc1_tip.append(accuracy(yhat1_tip, df_tip[\"elite\"], 0.3))\n",
    "        print(model.summary())\n",
    "#print(mse1_tip)\n",
    "#print(acc1_tip)"
   ]
  },
  {
   "cell_type": "code",
   "execution_count": 136,
   "metadata": {},
   "outputs": [
    {
     "name": "stdout",
     "output_type": "stream",
     "text": [
      "0.04133254729991649\n",
      "                           Logit Regression Results                           \n",
      "==============================================================================\n",
      "Dep. Variable:                  elite   No. Observations:              1518169\n",
      "Model:                          Logit   Df Residuals:                  1518165\n",
      "Method:                           MLE   Df Model:                            3\n",
      "Date:                Mon, 03 Dec 2018   Pseudo R-squ.:                 0.03117\n",
      "Time:                        01:38:05   Log-Likelihood:            -2.6634e+05\n",
      "converged:                       True   LL-Null:                   -2.7491e+05\n",
      "                                        LLR p-value:                     0.000\n",
      "===============================================================================\n",
      "                  coef    std err          z      P>|z|      [0.025      0.975]\n",
      "-------------------------------------------------------------------------------\n",
      "Intercept      -0.7727      0.028    -27.779      0.000      -0.827      -0.718\n",
      "numTips         0.1120      0.001     99.158      0.000       0.110       0.114\n",
      "numTipLikes     0.2590      0.004     61.473      0.000       0.251       0.267\n",
      "numTipRatio    -1.5162      0.098    -15.524      0.000      -1.708      -1.325\n",
      "===============================================================================\n"
     ]
    }
   ],
   "source": [
    "formula = 'elite ~ numTips + numTipLikes + numTipRatio'\n",
    "model=smf.logit(formula, data=df).fit(disp=0)\n",
    "yhat_tip = model.predict(df[['numTips', 'numTipLikes', 'numTipRatio']])\n",
    "mse_tip = mean_squared_error(df[\"elite\"], yhat_tip)\n",
    "print(mse_tip)\n",
    "print(model.summary())"
   ]
  },
  {
   "cell_type": "markdown",
   "metadata": {},
   "source": [
    "The tip data gives us a slight edge over baseline, but not by much. The feature set with the highest accuracy was numTipLikes. We'll test this out on top of the user features."
   ]
  },
  {
   "cell_type": "code",
   "execution_count": 411,
   "metadata": {},
   "outputs": [],
   "source": [
    "df_wtip = df[['numReviews','numFriends','numCompliments','numVotes','numAvgRatings','elite']]\n",
    "df_wtip['numTipLikes'] = numTipLikes"
   ]
  },
  {
   "cell_type": "code",
   "execution_count": 370,
   "metadata": {},
   "outputs": [],
   "source": [
    "features = ['numReviews', 'numFriends', 'numCompliments', 'numVotes', 'numAvgRatings', 'numTipLikes']"
   ]
  },
  {
   "cell_type": "code",
   "execution_count": 137,
   "metadata": {},
   "outputs": [
    {
     "name": "stdout",
     "output_type": "stream",
     "text": [
      "The average training error is 0.01560216479531778\n",
      "The average training accuracy is 0.97795758501578\n",
      "The average training precision is 0.7462428639081289\n",
      "The average training recall is 0.7596696618598474\n",
      "The average testing error is 0.015604044681236657\n",
      "The average testing accuracy is 0.9779556819268042\n",
      "The average testing precision is 0.7462671044800802\n",
      "The average testing recall is 0.7595973037049223\n"
     ]
    }
   ],
   "source": [
    "features = ['numReviews', 'numFriends', 'numCompliments', 'numVotes', 'numFans', 'numAvgRatings', 'sumEliteFriends', 'ratioEliteFriends', 'numTips']\n",
    "formula = 'elite ~ numReviews + numFriends + numAvgRatings + numCompliments + numVotes + numFans + sumEliteFriends + ratioEliteFriends + numTips'\n",
    "mse_train = []\n",
    "acc_train = []\n",
    "prec_train = []\n",
    "rec_train = []\n",
    "mse_test = []\n",
    "acc_test = []\n",
    "prec_test = []\n",
    "rec_test = []\n",
    "kf = KFold(n_splits=10, shuffle=True)\n",
    "for train_index, test_index in kf.split(df):\n",
    "    df_train = df.iloc[train_index, :]\n",
    "    df_test = df.iloc[test_index, :]\n",
    "    mod = smf.logit(formula, data=df_train).fit(disp=0)\n",
    "    yhat_train = mod.predict(df_train[features])\n",
    "    mse_train.append(mean_squared_error(df_train[\"elite\"], yhat_train))\n",
    "    a,p,r = apr(yhat_train, df_train[\"elite\"], 0.4)\n",
    "    acc_train.append(a)\n",
    "    prec_train.append(p)\n",
    "    rec_train.append(r)\n",
    "    yhat_test = mod.predict(df_test[features])\n",
    "    mse_test.append(mean_squared_error(df_test[\"elite\"], yhat_test))\n",
    "    a,p,r = apr(yhat_test, df_test[\"elite\"], 0.4)\n",
    "    acc_test.append(a)\n",
    "    prec_test.append(p)\n",
    "    rec_test.append(r)\n",
    "print(\"The average training error is \" + str(np.mean(mse_train)))\n",
    "print(\"The average training accuracy is \" + str(np.mean(acc_train)))\n",
    "print(\"The average training precision is \" + str(np.mean(prec_train)))\n",
    "print(\"The average training recall is \" + str(np.mean(rec_train)))\n",
    "print(\"The average testing error is \" + str(np.mean(mse_test)))\n",
    "print(\"The average testing accuracy is \" + str(np.mean(acc_test)))\n",
    "print(\"The average testing precision is \" + str(np.mean(prec_test)))\n",
    "print(\"The average testing recall is \" + str(np.mean(rec_test)))"
   ]
  },
  {
   "cell_type": "code",
   "execution_count": null,
   "metadata": {},
   "outputs": [],
   "source": [
    "The average training error is 0.015613125660818766\n",
    "The average training accuracy is 0.9779664407198752\n",
    "The average training precision is 0.7463867836734787\n",
    "The average training recall is 0.759676340163405\n",
    "The average testing error is 0.01561444227434231\n",
    "The average testing accuracy is 0.9779635867222914\n",
    "The average testing precision is 0.7463717417074281\n",
    "The average testing recall is 0.7596678473660\n",
    "0.7152"
   ]
  },
  {
   "cell_type": "code",
   "execution_count": 138,
   "metadata": {},
   "outputs": [
    {
     "name": "stdout",
     "output_type": "stream",
     "text": [
      "                           Logit Regression Results                           \n",
      "==============================================================================\n",
      "Dep. Variable:                  elite   No. Observations:              1366353\n",
      "Model:                          Logit   Df Residuals:                  1366343\n",
      "Method:                           MLE   Df Model:                            9\n",
      "Date:                Mon, 03 Dec 2018   Pseudo R-squ.:                  0.7160\n",
      "Time:                        01:40:40   Log-Likelihood:                -70331.\n",
      "converged:                       True   LL-Null:                   -2.4761e+05\n",
      "                                        LLR p-value:                     0.000\n",
      "=====================================================================================\n",
      "                        coef    std err          z      P>|z|      [0.025      0.975]\n",
      "-------------------------------------------------------------------------------------\n",
      "Intercept           -12.0345      0.093   -129.663      0.000     -12.216     -11.853\n",
      "numReviews            1.6511      0.011    153.454      0.000       1.630       1.672\n",
      "numFriends            0.0355      0.006      5.646      0.000       0.023       0.048\n",
      "numAvgRatings         0.8619      0.017     50.114      0.000       0.828       0.896\n",
      "numCompliments        0.1094      0.002     49.757      0.000       0.105       0.114\n",
      "numVotes             -0.0362      0.003    -13.633      0.000      -0.041      -0.031\n",
      "numFans               0.1239      0.004     34.809      0.000       0.117       0.131\n",
      "sumEliteFriends       0.2601      0.005     49.698      0.000       0.250       0.270\n",
      "ratioEliteFriends     1.3429      0.047     28.613      0.000       1.251       1.435\n",
      "numTips              -0.0162      0.002     -8.751      0.000      -0.020      -0.013\n",
      "=====================================================================================\n",
      "\n",
      "Possibly complete quasi-separation: A fraction 0.45 of observations can be\n",
      "perfectly predicted. This might indicate that there is complete\n",
      "quasi-separation. In this case some parameters will not be identified.\n"
     ]
    }
   ],
   "source": [
    "print(mod.summary())"
   ]
  },
  {
   "cell_type": "markdown",
   "metadata": {},
   "source": [
    "## Using Rating Data"
   ]
  },
  {
   "cell_type": "code",
   "execution_count": 139,
   "metadata": {},
   "outputs": [],
   "source": [
    "reviewLengths = defaultdict(list)\n",
    "reviewUsefuls = defaultdict(int)\n",
    "reviewFunnys = defaultdict(int)\n",
    "reviewCools = defaultdict(int)\n",
    "reviewParagraphs = defaultdict(int)\n",
    "reviewBullets = defaultdict(int)\n",
    "reviewProCon = defaultdict(int)\n",
    "reviewColons = defaultdict(int)\n",
    "for r in reviewData:\n",
    "    reviewLengths[r[\"user_id\"]].append(len(r[\"text\"]))\n",
    "    reviewUsefuls[r[\"user_id\"]] += r[\"useful\"]\n",
    "    reviewFunnys[r[\"user_id\"]] += r[\"funny\"]\n",
    "    reviewCools[r[\"user_id\"]] += r[\"cool\"]\n",
    "    \n",
    "    if \"\\n\" in r[\"text\"]:\n",
    "        reviewParagraphs[r[\"user_id\"]] += 1\n",
    "    if \"-\" in r[\"text\"] or \"1.\" in r[\"text\"] or \"1)\" in r[\"text\"]:\n",
    "        reviewBullets[r[\"user_id\"]] += 1\n",
    "    if \"Pros\" in r[\"text\"] or \"Cons\" in r[\"text\"] or \"PROS\" in r[\"text\"] or \"CONS\" in r[\"text\"] or \"Pro\" in r[\"text\"] or \"Con\" in r[\"text\"]:\n",
    "        reviewProCon[r[\"user_id\"]] += 1\n",
    "    if \":\" in r[\"text\"]:\n",
    "        reviewColons[r[\"user_id\"]] += 1"
   ]
  },
  {
   "cell_type": "code",
   "execution_count": 140,
   "metadata": {},
   "outputs": [],
   "source": [
    "avgLength = []\n",
    "numUsefuls = []\n",
    "numFunnys = []\n",
    "numCools = []\n",
    "numParagraphs = []\n",
    "numBullets = []\n",
    "numProCon = []\n",
    "numColons = []\n",
    "for u in userData:\n",
    "    if u[\"user_id\"] in reviewLengths:\n",
    "        avgLength.append(sum(reviewLengths[u[\"user_id\"]])/len(reviewLengths[u[\"user_id\"]]))\n",
    "        numUsefuls.append(reviewUsefuls[u[\"user_id\"]])\n",
    "        numFunnys.append(reviewFunnys[u[\"user_id\"]])\n",
    "        numCools.append(reviewCools[u[\"user_id\"]])\n",
    "\n",
    "        if reviewParagraphs[u[\"user_id\"]]:\n",
    "            numParagraphs.append(reviewParagraphs[u[\"user_id\"]])\n",
    "        else:\n",
    "            numParagraphs.append(0)\n",
    "            \n",
    "        if reviewBullets[u[\"user_id\"]]:\n",
    "            numBullets.append(reviewBullets[u[\"user_id\"]])\n",
    "        else:\n",
    "            numBullets.append(0)\n",
    "            \n",
    "        if reviewProCon[u[\"user_id\"]]:\n",
    "            numProCon.append(reviewProCon[u[\"user_id\"]])\n",
    "        else:\n",
    "            numProCon.append(0)\n",
    "            \n",
    "        if reviewColons[u[\"user_id\"]]:\n",
    "            numColons.append(reviewColons[u[\"user_id\"]])\n",
    "        else:\n",
    "            numColons.append(0)\n",
    "    else:\n",
    "        avgLength.append(0)\n",
    "        numUsefuls.append(0)\n",
    "        numFunnys.append(0)\n",
    "        numCools.append(0)\n",
    "        numParagraphs.append(0)\n",
    "        numBullets.append(0)\n",
    "        numProCon.append(0)\n",
    "        numColons.append(0)"
   ]
  },
  {
   "cell_type": "code",
   "execution_count": 141,
   "metadata": {},
   "outputs": [],
   "source": [
    "df['avgLength'] = avgLength\n",
    "df['numUsefuls'] = numUsefuls\n",
    "df['numFunnys'] = numFunnys\n",
    "df['numCools'] = numCools\n",
    "df['numParagraphs'] = numParagraphs\n",
    "df['numBullets'] = numBullets\n",
    "df['numProCon'] = numProCon\n",
    "df['numColons'] = numColons"
   ]
  },
  {
   "cell_type": "code",
   "execution_count": 144,
   "metadata": {},
   "outputs": [],
   "source": [
    "df['avgLength'] = df['avgLength'].apply(log_normalization)\n",
    "df['numUsefuls'] = df['numUsefuls'].apply(log_normalization)\n",
    "df['numFunnys'] = df['numFunnys'].apply(log_normalization)\n",
    "df['numCools'] = df['numCools'].apply(log_normalization)\n",
    "df['numParagraphs'] = df['numParagraphs'].apply(log_normalization)\n",
    "df['numBullets'] = df['numBullets'].apply(log_normalization)\n",
    "df['numProCon'] = df['numProCon'].apply(log_normalization)\n",
    "df['numColons'] = df['numColons'].apply(log_normalization)"
   ]
  },
  {
   "cell_type": "code",
   "execution_count": 145,
   "metadata": {},
   "outputs": [
    {
     "name": "stdout",
     "output_type": "stream",
     "text": [
      "                           Logit Regression Results                           \n",
      "==============================================================================\n",
      "Dep. Variable:                  elite   No. Observations:              1518169\n",
      "Model:                          Logit   Df Residuals:                  1518167\n",
      "Method:                           MLE   Df Model:                            1\n",
      "Date:                Mon, 03 Dec 2018   Pseudo R-squ.:                 0.06551\n",
      "Time:                        02:06:36   Log-Likelihood:            -2.5690e+05\n",
      "converged:                       True   LL-Null:                   -2.7491e+05\n",
      "                                        LLR p-value:                     0.000\n",
      "==============================================================================\n",
      "                 coef    std err          z      P>|z|      [0.025      0.975]\n",
      "------------------------------------------------------------------------------\n",
      "Intercept     -9.3677      0.035   -265.553      0.000      -9.437      -9.299\n",
      "avgLength      1.0110      0.005    186.565      0.000       1.000       1.022\n",
      "==============================================================================\n",
      "                           Logit Regression Results                           \n",
      "==============================================================================\n",
      "Dep. Variable:                  elite   No. Observations:              1518169\n",
      "Model:                          Logit   Df Residuals:                  1518167\n",
      "Method:                           MLE   Df Model:                            1\n",
      "Date:                Mon, 03 Dec 2018   Pseudo R-squ.:                  0.1235\n",
      "Time:                        02:06:40   Log-Likelihood:            -2.4097e+05\n",
      "converged:                       True   LL-Null:                   -2.7491e+05\n",
      "                                        LLR p-value:                     0.000\n",
      "==============================================================================\n",
      "                 coef    std err          z      P>|z|      [0.025      0.975]\n",
      "------------------------------------------------------------------------------\n",
      "Intercept     -2.9190      0.004   -665.515      0.000      -2.928      -2.910\n",
      "numUsefuls     0.3314      0.002    198.839      0.000       0.328       0.335\n",
      "==============================================================================\n",
      "                           Logit Regression Results                           \n",
      "==============================================================================\n",
      "Dep. Variable:                  elite   No. Observations:              1518169\n",
      "Model:                          Logit   Df Residuals:                  1518167\n",
      "Method:                           MLE   Df Model:                            1\n",
      "Date:                Mon, 03 Dec 2018   Pseudo R-squ.:                  0.1374\n",
      "Time:                        02:06:45   Log-Likelihood:            -2.3714e+05\n",
      "converged:                       True   LL-Null:                   -2.7491e+05\n",
      "                                        LLR p-value:                     0.000\n",
      "==============================================================================\n",
      "                 coef    std err          z      P>|z|      [0.025      0.975]\n",
      "------------------------------------------------------------------------------\n",
      "Intercept     -2.2039      0.004   -513.049      0.000      -2.212      -2.195\n",
      "numFunnys      0.2822      0.001    257.656      0.000       0.280       0.284\n",
      "==============================================================================\n",
      "                           Logit Regression Results                           \n",
      "==============================================================================\n",
      "Dep. Variable:                  elite   No. Observations:              1518169\n",
      "Model:                          Logit   Df Residuals:                  1518167\n",
      "Method:                           MLE   Df Model:                            1\n",
      "Date:                Mon, 03 Dec 2018   Pseudo R-squ.:                  0.1786\n",
      "Time:                        02:06:49   Log-Likelihood:            -2.2580e+05\n",
      "converged:                       True   LL-Null:                   -2.7491e+05\n",
      "                                        LLR p-value:                     0.000\n",
      "==============================================================================\n",
      "                 coef    std err          z      P>|z|      [0.025      0.975]\n",
      "------------------------------------------------------------------------------\n",
      "Intercept     -2.2131      0.004   -530.386      0.000      -2.221      -2.205\n",
      "numCools       0.3354      0.001    272.128      0.000       0.333       0.338\n",
      "==============================================================================\n",
      "                           Logit Regression Results                           \n",
      "==============================================================================\n",
      "Dep. Variable:                  elite   No. Observations:              1518169\n",
      "Model:                          Logit   Df Residuals:                  1518167\n",
      "Method:                           MLE   Df Model:                            1\n",
      "Date:                Mon, 03 Dec 2018   Pseudo R-squ.:                  0.1477\n",
      "Time:                        02:06:53   Log-Likelihood:            -2.3432e+05\n",
      "converged:                       True   LL-Null:                   -2.7491e+05\n",
      "                                        LLR p-value:                     0.000\n",
      "=================================================================================\n",
      "                    coef    std err          z      P>|z|      [0.025      0.975]\n",
      "---------------------------------------------------------------------------------\n",
      "Intercept        -2.4512      0.004   -602.057      0.000      -2.459      -2.443\n",
      "numParagraphs     0.3418      0.001    229.310      0.000       0.339       0.345\n",
      "=================================================================================\n",
      "                           Logit Regression Results                           \n",
      "==============================================================================\n",
      "Dep. Variable:                  elite   No. Observations:              1518169\n",
      "Model:                          Logit   Df Residuals:                  1518167\n",
      "Method:                           MLE   Df Model:                            1\n",
      "Date:                Mon, 03 Dec 2018   Pseudo R-squ.:                  0.1183\n",
      "Time:                        02:06:58   Log-Likelihood:            -2.4240e+05\n",
      "converged:                       True   LL-Null:                   -2.7491e+05\n",
      "                                        LLR p-value:                     0.000\n",
      "==============================================================================\n",
      "                 coef    std err          z      P>|z|      [0.025      0.975]\n",
      "------------------------------------------------------------------------------\n",
      "Intercept     -2.3492      0.004   -558.789      0.000      -2.357      -2.341\n",
      "numBullets     0.2862      0.001    225.508      0.000       0.284       0.289\n",
      "==============================================================================\n",
      "                           Logit Regression Results                           \n",
      "==============================================================================\n",
      "Dep. Variable:                  elite   No. Observations:              1518169\n",
      "Model:                          Logit   Df Residuals:                  1518167\n",
      "Method:                           MLE   Df Model:                            1\n",
      "Date:                Mon, 03 Dec 2018   Pseudo R-squ.:                 0.05768\n",
      "Time:                        02:07:02   Log-Likelihood:            -2.5905e+05\n",
      "converged:                       True   LL-Null:                   -2.7491e+05\n",
      "                                        LLR p-value:                     0.000\n",
      "==============================================================================\n",
      "                 coef    std err          z      P>|z|      [0.025      0.975]\n",
      "------------------------------------------------------------------------------\n",
      "Intercept     -1.5733      0.008   -205.967      0.000      -1.588      -1.558\n",
      "numProCon      0.2576      0.001    201.155      0.000       0.255       0.260\n",
      "==============================================================================\n"
     ]
    },
    {
     "name": "stdout",
     "output_type": "stream",
     "text": [
      "                           Logit Regression Results                           \n",
      "==============================================================================\n",
      "Dep. Variable:                  elite   No. Observations:              1518169\n",
      "Model:                          Logit   Df Residuals:                  1518167\n",
      "Method:                           MLE   Df Model:                            1\n",
      "Date:                Mon, 03 Dec 2018   Pseudo R-squ.:                 0.09875\n",
      "Time:                        02:07:06   Log-Likelihood:            -2.4776e+05\n",
      "converged:                       True   LL-Null:                   -2.7491e+05\n",
      "                                        LLR p-value:                     0.000\n",
      "==============================================================================\n",
      "                 coef    std err          z      P>|z|      [0.025      0.975]\n",
      "------------------------------------------------------------------------------\n",
      "Intercept     -1.9916      0.005   -394.653      0.000      -2.002      -1.982\n",
      "numColons      0.2565      0.001    236.656      0.000       0.254       0.259\n",
      "==============================================================================\n"
     ]
    }
   ],
   "source": [
    "newfeat = ['avgLength', 'numUsefuls', 'numFunnys', 'numCools', 'numParagraphs', 'numBullets', 'numProCon', 'numColons']\n",
    "for d in df:\n",
    "    if d in newfeat:\n",
    "        formula = 'elite ~ ' + d\n",
    "        model=smf.logit(formula, data=df).fit(disp=0)\n",
    "        yhat1_rev = model.predict(df[d])\n",
    "        print(model.summary())"
   ]
  },
  {
   "cell_type": "code",
   "execution_count": 148,
   "metadata": {},
   "outputs": [
    {
     "name": "stdout",
     "output_type": "stream",
     "text": [
      "0.03454031416831849\n",
      "0.9564514886023888\n",
      "0.5139861122824773\n",
      "0.27243737799698997\n"
     ]
    }
   ],
   "source": [
    "formula = 'elite ~ avgLength + numUsefuls + numFunnys + numCools + numParagraphs + numBullets + numProCon + numColons'\n",
    "model=smf.logit(formula, data=df).fit(disp=0)\n",
    "yhat_rev = model.predict(df[['avgLength','numUsefuls','numFunnys','numCools','numParagraphs','numBullets','numProCon','numColons']])\n",
    "mse_rev = mean_squared_error(df[\"elite\"], yhat_rev)\n",
    "print(mse_rev)\n",
    "a,p,r = (apr(yhat_rev, df[\"elite\"], 0.3))\n",
    "print(a)\n",
    "print(p)\n",
    "print(r)"
   ]
  },
  {
   "cell_type": "code",
   "execution_count": 149,
   "metadata": {},
   "outputs": [
    {
     "name": "stdout",
     "output_type": "stream",
     "text": [
      "                           Logit Regression Results                           \n",
      "==============================================================================\n",
      "Dep. Variable:                  elite   No. Observations:              1518169\n",
      "Model:                          Logit   Df Residuals:                  1518160\n",
      "Method:                           MLE   Df Model:                            8\n",
      "Date:                Mon, 03 Dec 2018   Pseudo R-squ.:                  0.2466\n",
      "Time:                        02:14:08   Log-Likelihood:            -2.0712e+05\n",
      "converged:                       True   LL-Null:                   -2.7491e+05\n",
      "                                        LLR p-value:                     0.000\n",
      "=================================================================================\n",
      "                    coef    std err          z      P>|z|      [0.025      0.975]\n",
      "---------------------------------------------------------------------------------\n",
      "Intercept        -4.5081      0.047    -95.054      0.000      -4.601      -4.415\n",
      "avgLength         0.4477      0.007     62.711      0.000       0.434       0.462\n",
      "numUsefuls       -0.0102      0.002     -5.432      0.000      -0.014      -0.007\n",
      "numFunnys         0.0544      0.001     36.494      0.000       0.051       0.057\n",
      "numCools          0.1879      0.002    109.455      0.000       0.185       0.191\n",
      "numParagraphs     0.1133      0.002     68.474      0.000       0.110       0.117\n",
      "numBullets        0.0594      0.001     39.760      0.000       0.056       0.062\n",
      "numProCon         0.0309      0.002     19.449      0.000       0.028       0.034\n",
      "numColons         0.0240      0.001     17.309      0.000       0.021       0.027\n",
      "=================================================================================\n"
     ]
    }
   ],
   "source": [
    "print(model.summary())"
   ]
  },
  {
   "cell_type": "code",
   "execution_count": 400,
   "metadata": {},
   "outputs": [
    {
     "name": "stdout",
     "output_type": "stream",
     "text": [
      "[0.036549038522721025, 0.03674813858553456, 0.036675126574780594, 0.03634376459379504, 0.036440244743754575, 0.03659941665859149, 0.03651233405477382]\n",
      "[0.9589426473600765, 0.9598371459303938, 0.9599550511174975, 0.959730438442624, 0.9596803781397196, 0.9599273862132608, 0.9597818161219206]\n"
     ]
    }
   ],
   "source": [
    "mse2_rev=[]\n",
    "acc2_rev=[]\n",
    "for d in df_rev:\n",
    "    if d == 'elite' or d == 'numCools':\n",
    "        continue\n",
    "    formula = 'elite ~ numCools + ' + d\n",
    "    model=smf.logit(formula, data=df_rev).fit(disp=0)\n",
    "    yhat2_rev = model.predict(df_rev[['numCools', d]])\n",
    "    mse2_rev.append(mean_squared_error(df_rev[\"elite\"], yhat2_rev))\n",
    "    acc2_rev.append(accuracy(yhat2_rev, df_rev[\"elite\"], 0.3))\n",
    "print(mse2_rev)\n",
    "print(acc2_rev)"
   ]
  },
  {
   "cell_type": "code",
   "execution_count": 410,
   "metadata": {},
   "outputs": [
    {
     "name": "stdout",
     "output_type": "stream",
     "text": [
      "[0.036513152111218326, 0.0367330245867535, 0.03628490736242809, 0.03639270720529811, 0.036562030474991035, 0.036462790264217323, 0.0367330245867531]\n",
      "[0.9597818161219206, 0.9597818161219206, 0.9597818161219206, 0.9597818161219206, 0.9597818161219206, 0.9597818161219206, 0.9597818161219206]\n"
     ]
    }
   ],
   "source": [
    "mse3_rev=[]\n",
    "acc3_rev=[]\n",
    "for d in df_rev:\n",
    "    if d == 'elite' or d == 'numCools' or d == 'numFunnys':\n",
    "        continue\n",
    "    formula = 'elite ~ numCools + numFunnys + ' + d\n",
    "    model=smf.logit(formula, data=df_rev).fit(disp=0)\n",
    "    yhat3_rev = model.predict(df_rev[['numCools', 'numFunnys', d]])\n",
    "    mse3_rev.append(mean_squared_error(df_rev[\"elite\"], yhat3_rev))\n",
    "    acc3_rev.append(accuracy(yhat2_rev, df_rev[\"elite\"], 0.3))\n",
    "print(mse3_rev)\n",
    "print(acc3_rev)"
   ]
  },
  {
   "cell_type": "code",
   "execution_count": 396,
   "metadata": {},
   "outputs": [],
   "source": [
    "## Using all features:\n",
    "## 0.03576745709167296\n",
    "## 0.9593661838701751\n",
    "\n",
    "## Using only the vote (Useful/Funny/Cool) features:\n",
    "## 0.036733024586753496\n",
    "## 0.9598404393713743\n",
    "\n",
    "## Using only the review text (Paragraphs/Bullets/ProCon/Colons) features:\n",
    "## 0.037157969461905554\n",
    "## 0.9586475550482193"
   ]
  },
  {
   "cell_type": "code",
   "execution_count": 403,
   "metadata": {},
   "outputs": [],
   "source": [
    "numTotalVotes = []\n",
    "for a,b,c in zip(numUsefuls, numFunnys, numCools):\n",
    "    numTotalVotes.append(a+b+c)\n",
    "df_rev['numTotalVotes'] = numTotalVotes"
   ]
  },
  {
   "cell_type": "code",
   "execution_count": 405,
   "metadata": {},
   "outputs": [
    {
     "name": "stdout",
     "output_type": "stream",
     "text": [
      "0.03739656752838877\n",
      "0.9590816305694557\n",
      "                           Logit Regression Results                           \n",
      "==============================================================================\n",
      "Dep. Variable:                  elite   No. Observations:              1518169\n",
      "Model:                          Logit   Df Residuals:                  1518167\n",
      "Method:                           MLE   Df Model:                            1\n",
      "Date:                Sun, 02 Dec 2018   Pseudo R-squ.:                  0.1083\n",
      "Time:                        14:00:07   Log-Likelihood:            -2.4513e+05\n",
      "converged:                       True   LL-Null:                   -2.7491e+05\n",
      "                                        LLR p-value:                     0.000\n",
      "=================================================================================\n",
      "                    coef    std err          z      P>|z|      [0.025      0.975]\n",
      "---------------------------------------------------------------------------------\n",
      "Intercept        -3.3584      0.005   -745.472      0.000      -3.367      -3.350\n",
      "numTotalVotes     0.0203      0.000    173.083      0.000       0.020       0.021\n",
      "=================================================================================\n"
     ]
    }
   ],
   "source": [
    "formula = 'elite ~ + numTotalVotes'\n",
    "model=smf.logit(formula, data=df_rev).fit(disp=0)\n",
    "yhatT_rev = model.predict(df_rev['numTotalVotes'])\n",
    "print(mean_squared_error(df_rev[\"elite\"], yhatT_rev))\n",
    "print(accuracy(yhatT_rev, df_rev[\"elite\"], 0.3))\n",
    "print(model.summary())"
   ]
  },
  {
   "cell_type": "markdown",
   "metadata": {},
   "source": [
    "It looks like the best feature set out of the reviews to use is using Number of Cool Votes and Number of Funny Votes. We'll add this to our user and tip features to see if we can get the accuracy better."
   ]
  },
  {
   "cell_type": "code",
   "execution_count": 414,
   "metadata": {},
   "outputs": [],
   "source": [
    "df_tu = df_wtip.copy()\n",
    "df_tu['numFunnys'] = numFunnys\n",
    "df_tu['numCools'] = numCools"
   ]
  },
  {
   "cell_type": "code",
   "execution_count": 157,
   "metadata": {},
   "outputs": [
    {
     "name": "stdout",
     "output_type": "stream",
     "text": [
      "The average training error is 0.015490379675519273\n",
      "The average training accuracy is 0.978123281688662\n",
      "The average training precision is 0.7472822263649178\n",
      "The average training recall is 0.7631944375744925\n",
      "The average testing error is 0.01549320709622122\n",
      "The average testing accuracy is 0.9781177190772666\n",
      "The average testing precision is 0.7472175386501758\n",
      "The average testing recall is 0.7631636166728334\n"
     ]
    }
   ],
   "source": [
    "features = ['numReviews', 'numFriends', 'numCompliments', 'numVotes', 'numFans', 'numAvgRatings', 'sumEliteFriends', 'numTipLikes','avgLength','numUsefuls','numFunnys','numCools','numParagraphs','numBullets']\n",
    "formula = 'elite ~ numReviews + numFriends + numCompliments + numVotes + numFans + numAvgRatings + sumEliteFriends + numTipLikes + avgLength + numUsefuls + numFunnys + numCools + numParagraphs + numBullets'\n",
    "mse_train = []\n",
    "acc_train = []\n",
    "prec_train = []\n",
    "rec_train = []\n",
    "mse_test = []\n",
    "acc_test = []\n",
    "prec_test = []\n",
    "rec_test = []\n",
    "kf = KFold(n_splits=10, shuffle=True)\n",
    "for train_index, test_index in kf.split(df):\n",
    "    df_train = df.iloc[train_index, :]\n",
    "    df_test = df.iloc[test_index, :]\n",
    "    mod = smf.logit(formula, data=df_train).fit(disp=0)\n",
    "    yhat_train = mod.predict(df_train[features])\n",
    "    mse_train.append(mean_squared_error(df_train[\"elite\"], yhat_train))\n",
    "    a,p,r = apr(yhat_train, df_train[\"elite\"], 0.4)\n",
    "    acc_train.append(a)\n",
    "    prec_train.append(p)\n",
    "    rec_train.append(r)\n",
    "    yhat_test = mod.predict(df_test[features])\n",
    "    mse_test.append(mean_squared_error(df_test[\"elite\"], yhat_test))\n",
    "    a,p,r = apr(yhat_test, df_test[\"elite\"], 0.4)\n",
    "    acc_test.append(a)\n",
    "    prec_test.append(p)\n",
    "    rec_test.append(r)\n",
    "print(\"The average training error is \" + str(np.mean(mse_train)))\n",
    "print(\"The average training accuracy is \" + str(np.mean(acc_train)))\n",
    "print(\"The average training precision is \" + str(np.mean(prec_train)))\n",
    "print(\"The average training recall is \" + str(np.mean(rec_train)))\n",
    "print(\"The average testing error is \" + str(np.mean(mse_test)))\n",
    "print(\"The average testing accuracy is \" + str(np.mean(acc_test)))\n",
    "print(\"The average testing precision is \" + str(np.mean(prec_test)))\n",
    "print(\"The average testing recall is \" + str(np.mean(rec_test)))"
   ]
  },
  {
   "cell_type": "code",
   "execution_count": 153,
   "metadata": {},
   "outputs": [
    {
     "name": "stdout",
     "output_type": "stream",
     "text": [
      "                           Logit Regression Results                           \n",
      "==============================================================================\n",
      "Dep. Variable:                  elite   No. Observations:              1366353\n",
      "Model:                          Logit   Df Residuals:                  1366336\n",
      "Method:                           MLE   Df Model:                           16\n",
      "Date:                Mon, 03 Dec 2018   Pseudo R-squ.:                  0.7210\n",
      "Time:                        02:37:21   Log-Likelihood:                -69103.\n",
      "converged:                       True   LL-Null:                   -2.4764e+05\n",
      "                                        LLR p-value:                     0.000\n",
      "===================================================================================\n",
      "                      coef    std err          z      P>|z|      [0.025      0.975]\n",
      "-----------------------------------------------------------------------------------\n",
      "Intercept         -15.2575      0.138   -110.707      0.000     -15.528     -14.987\n",
      "numReviews          1.6775      0.011    152.620      0.000       1.656       1.699\n",
      "numFriends         -0.0492      0.005     -9.931      0.000      -0.059      -0.039\n",
      "numCompliments      0.1010      0.002     45.191      0.000       0.097       0.105\n",
      "numVotes           -0.0459      0.003    -17.181      0.000      -0.051      -0.041\n",
      "numFans             0.1069      0.004     30.185      0.000       0.100       0.114\n",
      "numAvgRatings       0.9416      0.018     53.024      0.000       0.907       0.976\n",
      "sumEliteFriends     0.3283      0.005     69.906      0.000       0.319       0.338\n",
      "numTipLikes        -0.0446      0.006     -6.979      0.000      -0.057      -0.032\n",
      "avgLength           0.5135      0.013     41.056      0.000       0.489       0.538\n",
      "numUsefuls         -0.0055      0.003     -1.970      0.049      -0.011    -2.7e-05\n",
      "numFunnys          -0.0345      0.002    -14.063      0.000      -0.039      -0.030\n",
      "numCools            0.0340      0.003     12.970      0.000       0.029       0.039\n",
      "numParagraphs       0.0049      0.003      1.936      0.053   -6.08e-05       0.010\n",
      "numBullets          0.0182      0.002      7.749      0.000       0.014       0.023\n",
      "numProCon           0.0281      0.003     10.161      0.000       0.023       0.034\n",
      "numColons           0.0027      0.002      1.172      0.241      -0.002       0.007\n",
      "===================================================================================\n",
      "\n",
      "Possibly complete quasi-separation: A fraction 0.45 of observations can be\n",
      "perfectly predicted. This might indicate that there is complete\n",
      "quasi-separation. In this case some parameters will not be identified.\n"
     ]
    }
   ],
   "source": [
    "print(mod.summary())"
   ]
  },
  {
   "cell_type": "code",
   "execution_count": null,
   "metadata": {},
   "outputs": [],
   "source": [
    "The average training error is 0.015283827412461209\n",
    "The average training accuracy is 0.9783484798644595\n",
    "The average training precision is 0.7496156383852501\n",
    "The average training recall is 0.766070376382804\n",
    "The average testing error is 0.015287361803250302\n",
    "The average testing accuracy is 0.9783416731377033\n",
    "The average testing precision is 0.7495898051876216\n",
    "The average testing recall is 0.765922260305462\n",
    "\n",
    "The average training error is 0.01549034353337977\n",
    "The average training accuracy is 0.9781206469434514\n",
    "The average training precision is 0.7472498727067626\n",
    "The average training recall is 0.7631713984257731\n",
    "The average testing error is 0.015493755284432795\n",
    "The average testing accuracy is 0.9781157435736756\n",
    "The average testing precision is 0.747130809781954\n",
    "The average testing recall is 0.7633080148435205\n",
    "\n",
    "The average training error is 0.015490379675519273\n",
    "The average training accuracy is 0.978123281688662\n",
    "The average training precision is 0.7472822263649178\n",
    "The average training recall is 0.7631944375744925\n",
    "The average testing error is 0.01549320709622122\n",
    "The average testing accuracy is 0.9781177190772666\n",
    "The average testing precision is 0.7472175386501758\n",
    "The average testing recall is 0.7631636166728334"
   ]
  },
  {
   "cell_type": "markdown",
   "metadata": {},
   "source": [
    "So our highest accuracy using Logistic Regression was using 8 features: number of reviews, number of friends, average rating, number of compliments, number of votes given, number of tip likes, number of funny votes received, and number of cool votes received. This puts us $0.9733119304045346-0.9557960938472594 = 0.01751583655$ above baseline which accounts for around 40% of the missed accuracy so far."
   ]
  },
  {
   "cell_type": "markdown",
   "metadata": {},
   "source": [
    "## Using SVM Instead of Logistic Regression"
   ]
  },
  {
   "cell_type": "code",
   "execution_count": 158,
   "metadata": {},
   "outputs": [],
   "source": [
    "features = ['numReviews', 'numFriends', 'numCompliments', 'numVotes', 'numFans', 'numAvgRatings', 'sumEliteFriends', 'numTipLikes','avgLength','numUsefuls','numFunnys','numCools','numParagraphs','numBullets']"
   ]
  },
  {
   "cell_type": "code",
   "execution_count": 159,
   "metadata": {},
   "outputs": [],
   "source": [
    "def feature(d):\n",
    "    feat = []\n",
    "    for f in features:\n",
    "        feat.append(d[f])\n",
    "    return feat"
   ]
  },
  {
   "cell_type": "code",
   "execution_count": 165,
   "metadata": {},
   "outputs": [],
   "source": [
    "selected_df = df[features].copy()\n",
    "selected_df[\"elite\"] = df[\"elite\"]"
   ]
  },
  {
   "cell_type": "code",
   "execution_count": 166,
   "metadata": {},
   "outputs": [],
   "source": [
    "shuffled_df = selected_df.sample(frac=1)"
   ]
  },
  {
   "cell_type": "code",
   "execution_count": 167,
   "metadata": {},
   "outputs": [],
   "source": [
    "X = [feature(row) for i,row in shuffled_df.iterrows()]\n",
    "y = [row['elite'] for i,row in shuffled_df.iterrows()]"
   ]
  },
  {
   "cell_type": "code",
   "execution_count": 168,
   "metadata": {},
   "outputs": [],
   "source": [
    "X_train = X[:len(shuffled_df)//2]\n",
    "y_train = y[:len(shuffled_df)//2]\n",
    "X_test = X[len(shuffled_df)//2:]\n",
    "y_test = y[len(shuffled_df)//2:]"
   ]
  },
  {
   "cell_type": "code",
   "execution_count": null,
   "metadata": {},
   "outputs": [],
   "source": [
    "clf = svm.SVC(C=1.0, kernel='sigmoid')\n",
    "clf.fit(X_train, y_train)"
   ]
  },
  {
   "cell_type": "code",
   "execution_count": null,
   "metadata": {},
   "outputs": [],
   "source": [
    "train_predictions = clf.predict(X_train)\n",
    "test_predictions = clf.predict(X_test)\n",
    "correct_train = (train_predictions == y_train)\n",
    "correct_test = (test_predictions == y_test)\n",
    "trainAcc = sum(correct_train) / len(correct_train)\n",
    "print(\"Training accuracy was \" + str(trainAcc))\n",
    "testAcc = sum(correct_test) / len(correct_test)\n",
    "print(\"Test accuracy was \" + str(testAcc))"
   ]
  }
 ],
 "metadata": {
  "kernelspec": {
   "display_name": "Python 3",
   "language": "python",
   "name": "python3"
  },
  "language_info": {
   "codemirror_mode": {
    "name": "ipython",
    "version": 3
   },
   "file_extension": ".py",
   "mimetype": "text/x-python",
   "name": "python",
   "nbconvert_exporter": "python",
   "pygments_lexer": "ipython3",
   "version": "3.7.0"
  },
  "toc": {
   "base_numbering": 1,
   "nav_menu": {},
   "number_sections": true,
   "sideBar": true,
   "skip_h1_title": false,
   "title_cell": "Table of Contents",
   "title_sidebar": "Contents",
   "toc_cell": false,
   "toc_position": {},
   "toc_section_display": true,
   "toc_window_display": false
  }
 },
 "nbformat": 4,
 "nbformat_minor": 2
}
