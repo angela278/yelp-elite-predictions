{
 "cells": [
  {
   "cell_type": "code",
   "execution_count": 42,
   "metadata": {},
   "outputs": [],
   "source": [
    "%matplotlib inline\n",
    "import matplotlib.pyplot as plt\n",
    "import pandas as pd\n",
    "import numpy as np\n",
    "import ast\n",
    "from collections import defaultdict\n",
    "import statsmodels.api as sm\n",
    "import statsmodels.formula.api as smf\n",
    "from sklearn import linear_model\n",
    "from sklearn import svm\n",
    "from sklearn.metrics import mean_squared_error\n",
    "from sklearn.metrics import accuracy_score\n",
    "from sklearn.model_selection import KFold\n",
    "from random import shuffle\n",
    "from sklearn.decomposition import PCA"
   ]
  },
  {
   "cell_type": "code",
   "execution_count": 6,
   "metadata": {},
   "outputs": [],
   "source": [
    "def parseData(fname):\n",
    "    for l in open(fname):\n",
    "        yield ast.literal_eval(l)"
   ]
  },
  {
   "cell_type": "code",
   "execution_count": 7,
   "metadata": {},
   "outputs": [],
   "source": [
    "userData=list(parseData(\"yelp_dataset/yelp_academic_dataset_user.json\"))"
   ]
  },
  {
   "cell_type": "code",
   "execution_count": 8,
   "metadata": {},
   "outputs": [],
   "source": [
    "tipData=list(parseData(\"yelp_dataset/yelp_academic_dataset_tip.json\"))"
   ]
  },
  {
   "cell_type": "code",
   "execution_count": 9,
   "metadata": {},
   "outputs": [],
   "source": [
    "reviewData=list(parseData(\"yelp_dataset/yelp_academic_dataset_review.json\"))"
   ]
  },
  {
   "cell_type": "code",
   "execution_count": 10,
   "metadata": {},
   "outputs": [],
   "source": [
    "eliteIDs = []\n",
    "for u in userData:\n",
    "    if not 'None' in u['elite']:\n",
    "        eliteIDs.append(u[\"user_id\"])"
   ]
  },
  {
   "cell_type": "code",
   "execution_count": null,
   "metadata": {},
   "outputs": [],
   "source": [
    "# BASELINE: Predicting not-elite for every user\n",
    "predictions = [0 for u in userData]\n",
    "correct = (predictions == df[\"elite\"])\n",
    "print(sum(correct) / len(correct))"
   ]
  },
  {
   "cell_type": "code",
   "execution_count": null,
   "metadata": {},
   "outputs": [],
   "source": [
    "# BASELINE #2: Usin closeness to elite vs non-elite averages\n",
    "eReviews = []\n",
    "nReviews = []\n",
    "eFriends = []\n",
    "nFriends = []\n",
    "eCompliments = []\n",
    "nCompliments = []\n",
    "eVotes = []\n",
    "nVotes = []\n",
    "for i, row in df.iterrows():\n",
    "    if row[\"elite\"] == 0:\n",
    "        nReviews.append(row[\"numReviews\"])\n",
    "        nFriends.append(row[\"numFriends\"])\n",
    "        nCompliments.append(row[\"numCompliments\"])\n",
    "        nVotes.append(row[\"numVotes\"])\n",
    "    else:\n",
    "        eReviews.append(row[\"numReviews\"])\n",
    "        eFriends.append(row[\"numFriends\"])\n",
    "        eCompliments.append(row[\"numCompliments\"])\n",
    "        eVotes.append(row[\"numVotes\"])\n",
    "eReviewsAvg = np.mean(eReviews)\n",
    "nReviewsAvg = np.mean(nReviews)\n",
    "eFriendsAvg = np.mean(eFriends)\n",
    "nFriendsAvg = np.mean(nFriends)\n",
    "eComplimentsAvg = np.mean(eCompliments)\n",
    "nComplimentsAvg = np.mean(nCompliments)\n",
    "eVotesAvg = np.mean(eVotes)\n",
    "nVotesAvg = np.mean(nVotes)"
   ]
  },
  {
   "cell_type": "code",
   "execution_count": null,
   "metadata": {},
   "outputs": [],
   "source": [
    "def findCloserAvg(user_avg, elite_avg, non_elite_avg):\n",
    "    mid = (elite_avg + non_elite_avg) / 2\n",
    "    if user_avg >= mid:\n",
    "        return 1\n",
    "    else:\n",
    "        return 0"
   ]
  },
  {
   "cell_type": "code",
   "execution_count": null,
   "metadata": {},
   "outputs": [],
   "source": [
    "points = []\n",
    "for i,row in df.iterrows():\n",
    "    point = 0\n",
    "    if findCloserAvg(row[\"numReviews\"], eReviewsAvg, nReviewsAvg):\n",
    "        point += 1\n",
    "    if findCloserAvg(row[\"numFriends\"], eFriendsAvg, nFriendsAvg):\n",
    "        point += 1\n",
    "    if findCloserAvg(row[\"numCompliments\"], eComplimentsAvg, nComplimentsAvg):\n",
    "        point += 1\n",
    "    if findCloserAvg(row[\"numVotes\"], eVotesAvg, nVotesAvg):\n",
    "        point += 1\n",
    "    points.append(point)"
   ]
  },
  {
   "cell_type": "code",
   "execution_count": null,
   "metadata": {},
   "outputs": [],
   "source": [
    "pre = []\n",
    "for p in points:\n",
    "    if p == 4:\n",
    "        pre.append(1)\n",
    "    else:\n",
    "        pre.append(0)\n",
    "print(mean_squared_error(df[\"elite\"], pre))\n",
    "print(accuracy_score(df[\"elite\"], pre))"
   ]
  },
  {
   "cell_type": "markdown",
   "metadata": {},
   "source": [
    "## Using Only the User Data"
   ]
  },
  {
   "cell_type": "code",
   "execution_count": 11,
   "metadata": {},
   "outputs": [],
   "source": [
    "def apr(yhat, true, threshold):\n",
    "    predictions = (yhat > threshold)\n",
    "    correct = (predictions == true)\n",
    "    truepos, trueneg, falsepos, falseneg = 0,0,0,0\n",
    "    for (a,b) in zip(predictions, true):\n",
    "        if a==True and b==True:\n",
    "            truepos+=1\n",
    "        elif a==False and b==False:\n",
    "            trueneg+=1\n",
    "        elif a==True and b==False:\n",
    "            falsepos+=1\n",
    "        else:\n",
    "            falseneg+=1\n",
    "    acc = sum(correct) / len(correct)\n",
    "    precision = truepos / (truepos + falsepos)\n",
    "    recall = truepos / (truepos + falseneg)\n",
    "    return acc, precision, recall"
   ]
  },
  {
   "cell_type": "code",
   "execution_count": 12,
   "metadata": {},
   "outputs": [],
   "source": [
    "def sumCompliments(user):\n",
    "    compliment_count = user[\"compliment_hot\"] + user[\"compliment_more\"]\n",
    "    + user[\"compliment_profile\"] + user[\"compliment_cute\"] + user[\"compliment_list\"]\n",
    "    + user[\"compliment_note\"] + user[\"compliment_plain\"] + user[\"compliment_cool\"]\n",
    "    + user[\"compliment_funny\"] + user[\"compliment_writer\"] + user[\"compliment_photos\"]\n",
    "    return compliment_count"
   ]
  },
  {
   "cell_type": "code",
   "execution_count": 13,
   "metadata": {},
   "outputs": [],
   "source": [
    "def sumVotes(user):\n",
    "    useful = user['useful']\n",
    "    funny = user['funny']\n",
    "    cool = user['cool']\n",
    "    return useful + funny + cool"
   ]
  },
  {
   "cell_type": "code",
   "execution_count": 14,
   "metadata": {},
   "outputs": [],
   "source": [
    "numReviews = []\n",
    "numCompliments = []\n",
    "numVotes = []\n",
    "numAvgRatings = []\n",
    "numFans = []\n",
    "numFriends = []\n",
    "elite = []\n",
    "for u in userData:\n",
    "    numReviews.append(u[\"review_count\"])\n",
    "    numCompliments.append(sumCompliments(u))\n",
    "    numVotes.append(sumVotes(u))\n",
    "    numAvgRatings.append(u[\"average_stars\"])\n",
    "    numFans.append(u[\"fans\"])\n",
    "    \n",
    "    if 'None' in u['friends']:\n",
    "        numFriends.append(0)\n",
    "    else:\n",
    "        numFriends.append(len(u['friends'].split(\", \")))\n",
    "    \n",
    "    if not 'None' in u['elite']:\n",
    "        elite.append(1)\n",
    "    else:\n",
    "        elite.append(0)"
   ]
  },
  {
   "cell_type": "code",
   "execution_count": 115,
   "metadata": {},
   "outputs": [],
   "source": [
    "df = pd.DataFrame()\n",
    "df['numReviews'] = numReviews\n",
    "df['numFriends'] = numFriends\n",
    "df['numCompliments'] = numCompliments\n",
    "df['numVotes'] = numVotes\n",
    "df['numFans'] = numFans\n",
    "df['numAvgRatings'] = numAvgRatings\n",
    "df['elite'] = elite"
   ]
  },
  {
   "cell_type": "code",
   "execution_count": null,
   "metadata": {},
   "outputs": [],
   "source": [
    "df.boxplot(by=[\"elite\"], column=[\"numReviews\"], showfliers=False)"
   ]
  },
  {
   "cell_type": "code",
   "execution_count": null,
   "metadata": {},
   "outputs": [],
   "source": [
    "df.boxplot(by=[\"elite\"], column=[\"numFriends\"], showfliers=False)"
   ]
  },
  {
   "cell_type": "code",
   "execution_count": null,
   "metadata": {},
   "outputs": [],
   "source": [
    "df.boxplot(by=[\"elite\"], column=[\"numCompliments\"], showfliers=False)"
   ]
  },
  {
   "cell_type": "code",
   "execution_count": null,
   "metadata": {},
   "outputs": [],
   "source": [
    "df.boxplot(by=[\"elite\"], column=[\"numVotes\"], showfliers=False)"
   ]
  },
  {
   "cell_type": "code",
   "execution_count": null,
   "metadata": {},
   "outputs": [],
   "source": [
    "df.boxplot(by=[\"elite\"], column=[\"numFans\"], showfliers=False)"
   ]
  },
  {
   "cell_type": "code",
   "execution_count": null,
   "metadata": {},
   "outputs": [],
   "source": [
    "df.boxplot(by=[\"elite\"], column=[\"numAvgRatings\"])"
   ]
  },
  {
   "cell_type": "markdown",
   "metadata": {},
   "source": [
    "Looks like most of these features will be able to pretty accurately predict eliteness since the boxplots between elite and non-elite are quite different. For number of average ratings the values are similar but the variance is not."
   ]
  },
  {
   "cell_type": "code",
   "execution_count": 16,
   "metadata": {},
   "outputs": [],
   "source": [
    "def log_normalization(val):\n",
    "    if val > 0:\n",
    "        return np.log(val)\n",
    "    else:\n",
    "        return np.log(val + .001)"
   ]
  },
  {
   "cell_type": "code",
   "execution_count": 17,
   "metadata": {},
   "outputs": [],
   "source": [
    "df_init = df.copy()\n",
    "for d in df:\n",
    "    if d == 'numAvgRatings' or d == 'elite':\n",
    "        continue\n",
    "    df[d] = df[d].apply(log_normalization)"
   ]
  },
  {
   "cell_type": "code",
   "execution_count": null,
   "metadata": {},
   "outputs": [],
   "source": [
    "mse1=[]\n",
    "for d in df:\n",
    "    if d == 'elite':\n",
    "        break\n",
    "    formula = 'elite ~ ' + d\n",
    "    model=smf.logit(formula, data=df).fit(disp=0)\n",
    "    yhat1 = model.predict(df[d])\n",
    "    mse1.append(mean_squared_error(df[\"elite\"], yhat1))\n",
    "    print(model.summary())\n",
    "print(mse1)"
   ]
  },
  {
   "cell_type": "code",
   "execution_count": null,
   "metadata": {},
   "outputs": [],
   "source": [
    "features = ['numReviews', 'numFriends', 'numCompliments', 'numVotes', 'numFans', 'numAvgRatings']\n",
    "plt.scatter(features,mse1)\n",
    "plt.xlabel(\"Feature\")\n",
    "plt.ylabel(\"Mean Squared Error\")\n",
    "plt.title(\"MSE of Each User Feature Separately\")"
   ]
  },
  {
   "cell_type": "code",
   "execution_count": null,
   "metadata": {},
   "outputs": [],
   "source": [
    "mse2=[]\n",
    "for d in df:\n",
    "    if d == 'elite' or d == 'numReviews':\n",
    "        continue\n",
    "    formula = 'elite ~ numReviews + ' + d\n",
    "    model=smf.logit(formula, data=df).fit()\n",
    "    yhat2 = model.predict(df[['numReviews', d]])\n",
    "    mse2.append(mean_squared_error(df[\"elite\"], yhat2))\n",
    "print(mse2)"
   ]
  },
  {
   "cell_type": "code",
   "execution_count": null,
   "metadata": {},
   "outputs": [],
   "source": [
    "plt.scatter(features[1:],mse2)\n",
    "plt.xlabel(\"Feature\")\n",
    "plt.ylabel(\"Mean Squared Error\")\n",
    "plt.title(\"MSE of the Lowest MSE Feature (numReviews) and One Other Feature\")\n",
    "plt.ylim((0.022, 0.023)) "
   ]
  },
  {
   "cell_type": "code",
   "execution_count": null,
   "metadata": {},
   "outputs": [],
   "source": [
    "mse3=[]\n",
    "for d in df:\n",
    "    if d == 'elite' or d == 'numReviews' or d == 'numFriends':\n",
    "        continue\n",
    "    formula = 'elite ~ numReviews + numFriends + ' + d\n",
    "    model=smf.logit(formula, data=df).fit()\n",
    "    yhat3 = model.predict(df[['numReviews', 'numFriends', d]])\n",
    "    mse3.append(mean_squared_error(df[\"elite\"], yhat3))\n",
    "print(mse3)"
   ]
  },
  {
   "cell_type": "code",
   "execution_count": null,
   "metadata": {},
   "outputs": [],
   "source": [
    "plt.scatter(features[2:],mse3)\n",
    "plt.xlabel(\"Feature\")\n",
    "plt.ylabel(\"Mean Squared Error\")\n",
    "plt.title(\"MSE of the 2 Lowest MSE Features (numReviews, numFriends) and One Other Feature\")\n",
    "plt.ylim((0.0218, 0.0222))"
   ]
  },
  {
   "cell_type": "code",
   "execution_count": null,
   "metadata": {},
   "outputs": [],
   "source": [
    "mse4=[]\n",
    "for d in df:\n",
    "    if d == 'elite' or d == 'numReviews' or d == 'numFriends' or d == 'numAvgRatings':\n",
    "        continue\n",
    "    formula = 'elite ~ numReviews + numFriends + numAvgRatings + ' + d\n",
    "    model=smf.logit(formula, data=df).fit()\n",
    "    yhat4 = model.predict(df[['numReviews', 'numFriends', 'numAvgRatings', d]])\n",
    "    mse4.append(mean_squared_error(df[\"elite\"], yhat4))\n",
    "print(mse4)"
   ]
  },
  {
   "cell_type": "code",
   "execution_count": null,
   "metadata": {},
   "outputs": [],
   "source": [
    "plt.scatter(features[2:4],mse4)\n",
    "plt.xlabel(\"Feature\")\n",
    "plt.ylabel(\"Mean Squared Error\")\n",
    "plt.title(\"MSE of the 3 Lowest MSE Features (numReviews, numFriends, numAvgRatings) and One Other Feature\")\n",
    "plt.ylim((0.0218, 0.022))"
   ]
  },
  {
   "cell_type": "code",
   "execution_count": null,
   "metadata": {},
   "outputs": [],
   "source": [
    "features = ['numReviews', 'numFriends', 'numCompliments', 'numVotes', 'numFans', 'numAvgRatings']\n",
    "formula = 'elite ~ numReviews + numFriends + numAvgRatings + numCompliments + numVotes + numFans'\n",
    "model=smf.logit(formula, data=df).fit(disp=0)\n",
    "yhat6 = model.predict(df[features])\n",
    "mse6 = mean_squared_error(df[\"elite\"], yhat6)\n",
    "print(model.summary())"
   ]
  },
  {
   "cell_type": "code",
   "execution_count": null,
   "metadata": {},
   "outputs": [],
   "source": [
    "print(mse6)\n",
    "print(apr(yhat6, df[\"elite\"], 0.4))"
   ]
  },
  {
   "cell_type": "code",
   "execution_count": 118,
   "metadata": {},
   "outputs": [
    {
     "name": "stderr",
     "output_type": "stream",
     "text": [
      "/anaconda3/lib/python3.7/site-packages/statsmodels/base/model.py:508: ConvergenceWarning: Maximum Likelihood optimization failed to converge. Check mle_retvals\n",
      "  \"Check mle_retvals\", ConvergenceWarning)\n"
     ]
    },
    {
     "name": "stdout",
     "output_type": "stream",
     "text": [
      "The average training error is 0.021246933040634332\n",
      "The average training accuracy is 0.9730928067529423\n",
      "The average training precision is 0.773796932186886\n",
      "The average training recall is 0.5529305292375987\n",
      "The average testing error is 0.021249534602802825\n",
      "The average testing accuracy is 0.9730886351533445\n",
      "The average testing precision is 0.773793300515453\n",
      "The average testing recall is 0.5528238160934649\n"
     ]
    }
   ],
   "source": [
    "mse_train = []\n",
    "acc_train = []\n",
    "prec_train = []\n",
    "rec_train = []\n",
    "mse_test = []\n",
    "acc_test = []\n",
    "prec_test = []\n",
    "rec_test = []\n",
    "features = ['numReviews', 'numFriends', 'numCompliments', 'numVotes', 'numFans', 'numAvgRatings']\n",
    "formula = 'elite ~ numReviews + numFriends + numAvgRatings + numCompliments + numVotes + numFans'\n",
    "kf = KFold(n_splits=10, shuffle=True)\n",
    "for train_index, test_index in kf.split(df):\n",
    "    df_train = df.iloc[train_index, :]\n",
    "    df_test = df.iloc[test_index, :]\n",
    "    mod = smf.logit(formula, data=df_train).fit(disp=0)\n",
    "    yhat_train = mod.predict(df_train[features])\n",
    "    mse_train.append(mean_squared_error(df_train[\"elite\"], yhat_train))\n",
    "    a,p,r = apr(yhat_train, df_train[\"elite\"], 0.4)\n",
    "    acc_train.append(a)\n",
    "    prec_train.append(p)\n",
    "    rec_train.append(r)\n",
    "    yhat_test = mod.predict(df_test[features])\n",
    "    mse_test.append(mean_squared_error(df_test[\"elite\"], yhat_test))\n",
    "    a,p,r = apr(yhat_test, df_test[\"elite\"], 0.4)\n",
    "    acc_test.append(a)\n",
    "    prec_test.append(p)\n",
    "    rec_test.append(r)\n",
    "print(\"The average training error is \" + str(np.mean(mse_train)))\n",
    "print(\"The average training accuracy is \" + str(np.mean(acc_train)))\n",
    "print(\"The average training precision is \" + str(np.mean(prec_train)))\n",
    "print(\"The average training recall is \" + str(np.mean(rec_train)))\n",
    "print(\"The average testing error is \" + str(np.mean(mse_test)))\n",
    "print(\"The average testing accuracy is \" + str(np.mean(acc_test)))\n",
    "print(\"The average testing precision is \" + str(np.mean(prec_test)))\n",
    "print(\"The average testing recall is \" + str(np.mean(rec_test)))"
   ]
  },
  {
   "cell_type": "markdown",
   "metadata": {},
   "source": [
    "I wanted to see if the features used would be redundant at some point, and used a forward stepwise selection to choose the best features one by one. However in this case, the model with the lowest MSE and best accuracy still ended up being the one using all the features, which I guess makes sense and is okay since we only have 5 features total here. I used K-fold cross validation to check that the testing error and accuracy wouldn't be wildly different from training, which is wasn't. I chose 0.3 for the accuracy threshold since that seemed to produce the best results."
   ]
  },
  {
   "cell_type": "markdown",
   "metadata": {},
   "source": [
    "## Some Extra Friend Data"
   ]
  },
  {
   "cell_type": "code",
   "execution_count": 18,
   "metadata": {},
   "outputs": [],
   "source": [
    "eliteIDs = set(eliteIDs)"
   ]
  },
  {
   "cell_type": "code",
   "execution_count": 19,
   "metadata": {},
   "outputs": [],
   "source": [
    "sumEliteFriends = []\n",
    "ratioEliteFriends = []\n",
    "for u in userData:\n",
    "    if not 'None' in u['friends']:\n",
    "        friends = u['friends'].split(\", \")\n",
    "        sumE = 0\n",
    "        for f in friends:\n",
    "            if f in eliteIDs:\n",
    "                sumE += 1\n",
    "        sumEliteFriends.append(sumE)\n",
    "        ratioEliteFriends.append(sumE * 1.0/len(friends))\n",
    "    else:\n",
    "        sumEliteFriends.append(0)\n",
    "        ratioEliteFriends.append(0)"
   ]
  },
  {
   "cell_type": "code",
   "execution_count": 20,
   "metadata": {},
   "outputs": [],
   "source": [
    "df[\"sumEliteFriends\"] = sumEliteFriends\n",
    "df[\"ratioEliteFriends\"] = ratioEliteFriends\n",
    "df[\"sumEliteFriends\"]=df[\"sumEliteFriends\"].apply(log_normalization)"
   ]
  },
  {
   "cell_type": "code",
   "execution_count": null,
   "metadata": {},
   "outputs": [],
   "source": [
    "features = ['numReviews', 'numFriends', 'numCompliments', 'numVotes', 'numFans', 'numAvgRatings', 'sumEliteFriends', 'ratioEliteFriends']\n",
    "formula = 'elite ~ numReviews + numFriends + numAvgRatings + numCompliments + numVotes + numFans + sumEliteFriends + ratioEliteFriends'\n",
    "mse_train = []\n",
    "acc_train = []\n",
    "prec_train = []\n",
    "rec_train = []\n",
    "mse_test = []\n",
    "acc_test = []\n",
    "prec_test = []\n",
    "rec_test = []\n",
    "kf = KFold(n_splits=10, shuffle=True)\n",
    "for train_index, test_index in kf.split(df):\n",
    "    df_train = df.iloc[train_index, :]\n",
    "    df_test = df.iloc[test_index, :]\n",
    "    mod = smf.logit(formula, data=df_train).fit(disp=0)\n",
    "    yhat_train = mod.predict(df_train[features])\n",
    "    mse_train.append(mean_squared_error(df_train[\"elite\"], yhat_train))\n",
    "    a,p,r = apr(yhat_train, df_train[\"elite\"], 0.4)\n",
    "    acc_train.append(a)\n",
    "    prec_train.append(p)\n",
    "    rec_train.append(r)\n",
    "    yhat_test = mod.predict(df_test[features])\n",
    "    mse_test.append(mean_squared_error(df_test[\"elite\"], yhat_test))\n",
    "    a,p,r = apr(yhat_test, df_test[\"elite\"], 0.4)\n",
    "    acc_test.append(a)\n",
    "    prec_test.append(p)\n",
    "    rec_test.append(r)\n",
    "print(\"The average training error is \" + str(np.mean(mse_train)))\n",
    "print(\"The average training accuracy is \" + str(np.mean(acc_train)))\n",
    "print(\"The average training precision is \" + str(np.mean(prec_train)))\n",
    "print(\"The average training recall is \" + str(np.mean(rec_train)))\n",
    "print(\"The average testing error is \" + str(np.mean(mse_test)))\n",
    "print(\"The average testing accuracy is \" + str(np.mean(acc_test)))\n",
    "print(\"The average testing precision is \" + str(np.mean(prec_test)))\n",
    "print(\"The average testing recall is \" + str(np.mean(rec_test)))"
   ]
  },
  {
   "cell_type": "code",
   "execution_count": null,
   "metadata": {},
   "outputs": [],
   "source": [
    "print(mod.summary())"
   ]
  },
  {
   "cell_type": "markdown",
   "metadata": {},
   "source": [
    "## Using Tip Data"
   ]
  },
  {
   "cell_type": "code",
   "execution_count": 21,
   "metadata": {},
   "outputs": [],
   "source": [
    "tipCounts = defaultdict(int)\n",
    "tipLikes = defaultdict(int)\n",
    "for t in tipData:\n",
    "    tipCounts[t[\"user_id\"]] += 1\n",
    "    tipLikes[t[\"user_id\"]] += t[\"likes\"]"
   ]
  },
  {
   "cell_type": "code",
   "execution_count": 22,
   "metadata": {},
   "outputs": [],
   "source": [
    "numTips = []\n",
    "numTipLikes = []\n",
    "numTipRatio = []\n",
    "for u in userData:\n",
    "    if u[\"user_id\"] in tipCounts:\n",
    "        numTips.append(tipCounts[u[\"user_id\"]])\n",
    "        numTipLikes.append(tipLikes[u[\"user_id\"]])\n",
    "        if tipLikes[u[\"user_id\"]] > 0:\n",
    "            numTipRatio.append(tipLikes[u[\"user_id\"]]/(tipCounts[u[\"user_id\"]]*1.0))\n",
    "        else:\n",
    "            numTipRatio.append(0)\n",
    "    else:\n",
    "        numTips.append(0)\n",
    "        numTipLikes.append(0)\n",
    "        numTipRatio.append(0)"
   ]
  },
  {
   "cell_type": "code",
   "execution_count": 23,
   "metadata": {},
   "outputs": [],
   "source": [
    "df['numTips'] = numTips\n",
    "df['numTipLikes'] = numTipLikes\n",
    "df['numTipRatio'] = numTipRatio"
   ]
  },
  {
   "cell_type": "code",
   "execution_count": 24,
   "metadata": {},
   "outputs": [],
   "source": [
    "df['numTips'] = df['numTips'].apply(log_normalization)\n",
    "df['numTipLikes'] = df['numTipLikes'].apply(log_normalization)"
   ]
  },
  {
   "cell_type": "code",
   "execution_count": null,
   "metadata": {},
   "outputs": [],
   "source": [
    "mse1_tip = []\n",
    "acc1_tip = []\n",
    "for d in df:\n",
    "    if d == \"numTips\" or d == \"numTipLikes\" or d == \"numTipRatio\":\n",
    "        formula = 'elite ~ ' + d\n",
    "        model=smf.logit(formula, data=df).fit(disp=0)\n",
    "        yhat1_tip = model.predict(df[d])\n",
    "        mse1_tip.append(mean_squared_error(df_tip[\"elite\"], yhat1_tip))\n",
    "        acc1_tip.append(accuracy(yhat1_tip, df_tip[\"elite\"], 0.3))\n",
    "        print(model.summary())\n",
    "print(mse1_tip)\n",
    "print(acc1_tip)"
   ]
  },
  {
   "cell_type": "code",
   "execution_count": null,
   "metadata": {},
   "outputs": [],
   "source": [
    "formula = 'elite ~ numTips + numTipLikes + numTipRatio'\n",
    "model=smf.logit(formula, data=df).fit(disp=0)\n",
    "yhat_tip = model.predict(df[['numTips', 'numTipLikes', 'numTipRatio']])\n",
    "mse_tip = mean_squared_error(df[\"elite\"], yhat_tip)\n",
    "print(mse_tip)\n",
    "print(model.summary())"
   ]
  },
  {
   "cell_type": "markdown",
   "metadata": {},
   "source": [
    "The tip data gives us a slight edge over baseline, but not by much. The feature set with the highest accuracy was numTipLikes. We'll test this out on top of the user features."
   ]
  },
  {
   "cell_type": "code",
   "execution_count": null,
   "metadata": {},
   "outputs": [],
   "source": [
    "features = ['numReviews', 'numFriends', 'numCompliments', 'numVotes', 'numFans', 'numAvgRatings', 'sumEliteFriends', 'ratioEliteFriends', 'numTips']\n",
    "formula = 'elite ~ numReviews + numFriends + numAvgRatings + numCompliments + numVotes + numFans + sumEliteFriends + ratioEliteFriends + numTips'\n",
    "mse_train = []\n",
    "acc_train = []\n",
    "prec_train = []\n",
    "rec_train = []\n",
    "mse_test = []\n",
    "acc_test = []\n",
    "prec_test = []\n",
    "rec_test = []\n",
    "kf = KFold(n_splits=10, shuffle=True)\n",
    "for train_index, test_index in kf.split(df):\n",
    "    df_train = df.iloc[train_index, :]\n",
    "    df_test = df.iloc[test_index, :]\n",
    "    mod = smf.logit(formula, data=df_train).fit(disp=0)\n",
    "    yhat_train = mod.predict(df_train[features])\n",
    "    mse_train.append(mean_squared_error(df_train[\"elite\"], yhat_train))\n",
    "    a,p,r = apr(yhat_train, df_train[\"elite\"], 0.4)\n",
    "    acc_train.append(a)\n",
    "    prec_train.append(p)\n",
    "    rec_train.append(r)\n",
    "    yhat_test = mod.predict(df_test[features])\n",
    "    mse_test.append(mean_squared_error(df_test[\"elite\"], yhat_test))\n",
    "    a,p,r = apr(yhat_test, df_test[\"elite\"], 0.4)\n",
    "    acc_test.append(a)\n",
    "    prec_test.append(p)\n",
    "    rec_test.append(r)\n",
    "print(\"The average training error is \" + str(np.mean(mse_train)))\n",
    "print(\"The average training accuracy is \" + str(np.mean(acc_train)))\n",
    "print(\"The average training precision is \" + str(np.mean(prec_train)))\n",
    "print(\"The average training recall is \" + str(np.mean(rec_train)))\n",
    "print(\"The average testing error is \" + str(np.mean(mse_test)))\n",
    "print(\"The average testing accuracy is \" + str(np.mean(acc_test)))\n",
    "print(\"The average testing precision is \" + str(np.mean(prec_test)))\n",
    "print(\"The average testing recall is \" + str(np.mean(rec_test)))"
   ]
  },
  {
   "cell_type": "markdown",
   "metadata": {},
   "source": [
    "The average training error is 0.015613125660818766\n",
    "\n",
    "The average training accuracy is 0.9779664407198752\n",
    "\n",
    "The average training precision is 0.7463867836734787\n",
    "\n",
    "The average training recall is 0.759676340163405\n",
    "\n",
    "The average testing error is 0.01561444227434231\n",
    "\n",
    "The average testing accuracy is 0.9779635867222914\n",
    "\n",
    "The average testing precision is 0.7463717417074281\n",
    "\n",
    "The average testing recall is 0.7596678473660\n",
    "\n",
    "0.7152"
   ]
  },
  {
   "cell_type": "code",
   "execution_count": null,
   "metadata": {},
   "outputs": [],
   "source": [
    "print(mod.summary())"
   ]
  },
  {
   "cell_type": "markdown",
   "metadata": {},
   "source": [
    "## Using Rating Data"
   ]
  },
  {
   "cell_type": "code",
   "execution_count": 25,
   "metadata": {},
   "outputs": [],
   "source": [
    "reviewLengths = defaultdict(list)\n",
    "reviewUsefuls = defaultdict(int)\n",
    "reviewFunnys = defaultdict(int)\n",
    "reviewCools = defaultdict(int)\n",
    "reviewParagraphs = defaultdict(int)\n",
    "reviewBullets = defaultdict(int)\n",
    "reviewProCon = defaultdict(int)\n",
    "reviewColons = defaultdict(int)\n",
    "for r in reviewData:\n",
    "    reviewLengths[r[\"user_id\"]].append(len(r[\"text\"]))\n",
    "    reviewUsefuls[r[\"user_id\"]] += r[\"useful\"]\n",
    "    reviewFunnys[r[\"user_id\"]] += r[\"funny\"]\n",
    "    reviewCools[r[\"user_id\"]] += r[\"cool\"]\n",
    "    \n",
    "    if \"\\n\" in r[\"text\"]:\n",
    "        reviewParagraphs[r[\"user_id\"]] += 1\n",
    "    if \"-\" in r[\"text\"] or \"1.\" in r[\"text\"] or \"1)\" in r[\"text\"]:\n",
    "        reviewBullets[r[\"user_id\"]] += 1\n",
    "    if \"Pros\" in r[\"text\"] or \"Cons\" in r[\"text\"] or \"PROS\" in r[\"text\"] or \"CONS\" in r[\"text\"] or \"Pro\" in r[\"text\"] or \"Con\" in r[\"text\"]:\n",
    "        reviewProCon[r[\"user_id\"]] += 1\n",
    "    if \":\" in r[\"text\"]:\n",
    "        reviewColons[r[\"user_id\"]] += 1"
   ]
  },
  {
   "cell_type": "code",
   "execution_count": 26,
   "metadata": {},
   "outputs": [],
   "source": [
    "avgLength = []\n",
    "numUsefuls = []\n",
    "numFunnys = []\n",
    "numCools = []\n",
    "numParagraphs = []\n",
    "numBullets = []\n",
    "numProCon = []\n",
    "numColons = []\n",
    "for u in userData:\n",
    "    if u[\"user_id\"] in reviewLengths:\n",
    "        avgLength.append(sum(reviewLengths[u[\"user_id\"]])/len(reviewLengths[u[\"user_id\"]]))\n",
    "        numUsefuls.append(reviewUsefuls[u[\"user_id\"]])\n",
    "        numFunnys.append(reviewFunnys[u[\"user_id\"]])\n",
    "        numCools.append(reviewCools[u[\"user_id\"]])\n",
    "\n",
    "        if reviewParagraphs[u[\"user_id\"]]:\n",
    "            numParagraphs.append(reviewParagraphs[u[\"user_id\"]])\n",
    "        else:\n",
    "            numParagraphs.append(0)\n",
    "            \n",
    "        if reviewBullets[u[\"user_id\"]]:\n",
    "            numBullets.append(reviewBullets[u[\"user_id\"]])\n",
    "        else:\n",
    "            numBullets.append(0)\n",
    "            \n",
    "        if reviewProCon[u[\"user_id\"]]:\n",
    "            numProCon.append(reviewProCon[u[\"user_id\"]])\n",
    "        else:\n",
    "            numProCon.append(0)\n",
    "            \n",
    "        if reviewColons[u[\"user_id\"]]:\n",
    "            numColons.append(reviewColons[u[\"user_id\"]])\n",
    "        else:\n",
    "            numColons.append(0)\n",
    "    else:\n",
    "        avgLength.append(0)\n",
    "        numUsefuls.append(0)\n",
    "        numFunnys.append(0)\n",
    "        numCools.append(0)\n",
    "        numParagraphs.append(0)\n",
    "        numBullets.append(0)\n",
    "        numProCon.append(0)\n",
    "        numColons.append(0)"
   ]
  },
  {
   "cell_type": "code",
   "execution_count": 27,
   "metadata": {},
   "outputs": [],
   "source": [
    "df['avgLength'] = avgLength\n",
    "df['numUsefuls'] = numUsefuls\n",
    "df['numFunnys'] = numFunnys\n",
    "df['numCools'] = numCools\n",
    "df['numParagraphs'] = numParagraphs\n",
    "df['numBullets'] = numBullets\n",
    "df['numProCon'] = numProCon\n",
    "df['numColons'] = numColons"
   ]
  },
  {
   "cell_type": "code",
   "execution_count": 28,
   "metadata": {},
   "outputs": [],
   "source": [
    "df['avgLength'] = df['avgLength'].apply(log_normalization)\n",
    "df['numUsefuls'] = df['numUsefuls'].apply(log_normalization)\n",
    "df['numFunnys'] = df['numFunnys'].apply(log_normalization)\n",
    "df['numCools'] = df['numCools'].apply(log_normalization)\n",
    "df['numParagraphs'] = df['numParagraphs'].apply(log_normalization)\n",
    "df['numBullets'] = df['numBullets'].apply(log_normalization)\n",
    "df['numProCon'] = df['numProCon'].apply(log_normalization)\n",
    "df['numColons'] = df['numColons'].apply(log_normalization)"
   ]
  },
  {
   "cell_type": "code",
   "execution_count": null,
   "metadata": {},
   "outputs": [],
   "source": [
    "features = ['avgLength', 'numUsefuls', 'numFunnys', 'numCools', 'numParagraphs', 'numBullets', 'numProCon', 'numColons']\n",
    "for d in df:\n",
    "    if d in features:\n",
    "        formula = 'elite ~ ' + d\n",
    "        model=smf.logit(formula, data=df).fit(disp=0)\n",
    "        yhat1_rev = model.predict(df[d])\n",
    "        print(model.summary())"
   ]
  },
  {
   "cell_type": "code",
   "execution_count": null,
   "metadata": {},
   "outputs": [],
   "source": [
    "features = ['numReviews', 'numFriends', 'numCompliments', 'numVotes', 'numFans', 'numAvgRatings', 'sumEliteFriends', 'numTipLikes','avgLength','numUsefuls','numFunnys','numCools','numParagraphs','numBullets']\n",
    "formula = 'elite ~ numReviews + numFriends + numCompliments + numVotes + numFans + numAvgRatings + sumEliteFriends + numTipLikes + avgLength + numUsefuls + numFunnys + numCools + numParagraphs + numBullets'\n",
    "model=smf.logit(formula, data=df).fit(disp=0)\n",
    "yhat_rev = model.predict(df[features])\n",
    "mse_rev = mean_squared_error(df[\"elite\"], yhat_rev)\n",
    "print(mse_rev)\n",
    "a,p,r = (apr(yhat_rev, df[\"elite\"], 0.4))\n",
    "print(a)\n",
    "print(p)\n",
    "print(r)"
   ]
  },
  {
   "cell_type": "code",
   "execution_count": null,
   "metadata": {},
   "outputs": [],
   "source": [
    "print(model.summary())"
   ]
  },
  {
   "cell_type": "code",
   "execution_count": null,
   "metadata": {},
   "outputs": [],
   "source": [
    "numTotalVotes = []\n",
    "for a,b,c in zip(numUsefuls, numFunnys, numCools):\n",
    "    numTotalVotes.append(a+b+c)\n",
    "df_rev['numTotalVotes'] = numTotalVotes"
   ]
  },
  {
   "cell_type": "code",
   "execution_count": null,
   "metadata": {},
   "outputs": [],
   "source": [
    "formula = 'elite ~ + numTotalVotes'\n",
    "model=smf.logit(formula, data=df_rev).fit(disp=0)\n",
    "yhatT_rev = model.predict(df_rev['numTotalVotes'])\n",
    "print(mean_squared_error(df_rev[\"elite\"], yhatT_rev))\n",
    "print(accuracy(yhatT_rev, df_rev[\"elite\"], 0.3))\n",
    "print(model.summary())"
   ]
  },
  {
   "cell_type": "code",
   "execution_count": null,
   "metadata": {},
   "outputs": [],
   "source": [
    "## Using all new features:\n",
    "## 0.03576745709167296\n",
    "## 0.9593661838701751\n",
    "\n",
    "## Using only the vote (Useful/Funny/Cool) features:\n",
    "## 0.036733024586753496\n",
    "## 0.9598404393713743\n",
    "\n",
    "## Using only the review text (Paragraphs/Bullets/ProCon/Colons) features:\n",
    "## 0.037157969461905554\n",
    "## 0.9586475550482193"
   ]
  },
  {
   "cell_type": "markdown",
   "metadata": {},
   "source": [
    "It looks like the best feature set out of the reviews to use is using Number of Cool Votes and Number of Funny Votes. We'll add this to our user and tip features to see if we can get the accuracy better."
   ]
  },
  {
   "cell_type": "code",
   "execution_count": null,
   "metadata": {},
   "outputs": [],
   "source": [
    "features = ['numReviews', 'numFriends', 'numCompliments', 'numVotes', 'numFans', 'numAvgRatings', 'sumEliteFriends', 'numTipLikes','avgLength','numUsefuls','numFunnys','numCools','numParagraphs','numBullets']\n",
    "formula = 'elite ~ numReviews + numFriends + numCompliments + numVotes + numFans + numAvgRatings + sumEliteFriends + numTipLikes + avgLength + numUsefuls + numFunnys + numCools + numParagraphs + numBullets'\n",
    "mse_train = []\n",
    "acc_train = []\n",
    "prec_train = []\n",
    "rec_train = []\n",
    "mse_test = []\n",
    "acc_test = []\n",
    "prec_test = []\n",
    "rec_test = []\n",
    "kf = KFold(n_splits=10, shuffle=True)\n",
    "for train_index, test_index in kf.split(df):\n",
    "    df_train = df.iloc[train_index, :]\n",
    "    df_test = df.iloc[test_index, :]\n",
    "    mod = smf.logit(formula, data=df_train).fit(disp=0)\n",
    "    yhat_train = mod.predict(df_train[features])\n",
    "    mse_train.append(mean_squared_error(df_train[\"elite\"], yhat_train))\n",
    "    a,p,r = apr(yhat_train, df_train[\"elite\"], 0.4)\n",
    "    acc_train.append(a)\n",
    "    prec_train.append(p)\n",
    "    rec_train.append(r)\n",
    "    yhat_test = mod.predict(df_test[features])\n",
    "    mse_test.append(mean_squared_error(df_test[\"elite\"], yhat_test))\n",
    "    a,p,r = apr(yhat_test, df_test[\"elite\"], 0.4)\n",
    "    acc_test.append(a)\n",
    "    prec_test.append(p)\n",
    "    rec_test.append(r)\n",
    "print(\"The average training error is \" + str(np.mean(mse_train)))\n",
    "print(\"The average training accuracy is \" + str(np.mean(acc_train)))\n",
    "print(\"The average training precision is \" + str(np.mean(prec_train)))\n",
    "print(\"The average training recall is \" + str(np.mean(rec_train)))\n",
    "print(\"The average testing error is \" + str(np.mean(mse_test)))\n",
    "print(\"The average testing accuracy is \" + str(np.mean(acc_test)))\n",
    "print(\"The average testing precision is \" + str(np.mean(prec_test)))\n",
    "print(\"The average testing recall is \" + str(np.mean(rec_test)))"
   ]
  },
  {
   "cell_type": "code",
   "execution_count": null,
   "metadata": {},
   "outputs": [],
   "source": [
    "print(mod.summary())"
   ]
  },
  {
   "cell_type": "markdown",
   "metadata": {},
   "source": [
    "## Using SVM Instead of Logistic Regression"
   ]
  },
  {
   "cell_type": "code",
   "execution_count": 29,
   "metadata": {},
   "outputs": [],
   "source": [
    "features = ['numReviews', 'numFriends', 'numCompliments', 'numVotes', 'numFans', 'numAvgRatings', 'sumEliteFriends', 'numTipLikes','avgLength','numUsefuls','numFunnys','numCools','numParagraphs','numBullets']"
   ]
  },
  {
   "cell_type": "code",
   "execution_count": 30,
   "metadata": {},
   "outputs": [],
   "source": [
    "def feature(d):\n",
    "    feat = []\n",
    "    for f in features:\n",
    "        feat.append(d[f])\n",
    "    return feat"
   ]
  },
  {
   "cell_type": "code",
   "execution_count": 31,
   "metadata": {},
   "outputs": [],
   "source": [
    "selected_df = df[features].copy()\n",
    "selected_df[\"elite\"] = df[\"elite\"]"
   ]
  },
  {
   "cell_type": "code",
   "execution_count": 32,
   "metadata": {},
   "outputs": [],
   "source": [
    "elite_df = selected_df[selected_df['elite'] == 1]\n",
    "nonelite_df = selected_df[selected_df['elite'] == 0]"
   ]
  },
  {
   "cell_type": "code",
   "execution_count": 33,
   "metadata": {},
   "outputs": [],
   "source": [
    "smaller_elite = elite_df.head(25000)\n",
    "smaller_nonelite = nonelite_df.head(25000)"
   ]
  },
  {
   "cell_type": "code",
   "execution_count": 34,
   "metadata": {},
   "outputs": [
    {
     "data": {
      "text/plain": [
       "50000"
      ]
     },
     "execution_count": 34,
     "metadata": {},
     "output_type": "execute_result"
    }
   ],
   "source": [
    "smaller_df = pd.DataFrame()\n",
    "smaller_df = smaller_df.append(smaller_elite)\n",
    "smaller_df = smaller_df.append(smaller_nonelite)\n",
    "len(smaller_df)"
   ]
  },
  {
   "cell_type": "code",
   "execution_count": 35,
   "metadata": {},
   "outputs": [],
   "source": [
    "shuffled_df = smaller_df.sample(frac=1)"
   ]
  },
  {
   "cell_type": "code",
   "execution_count": 36,
   "metadata": {},
   "outputs": [],
   "source": [
    "X = [feature(row) for i,row in shuffled_df.iterrows()]\n",
    "y = [row['elite'] for i,row in shuffled_df.iterrows()]"
   ]
  },
  {
   "cell_type": "code",
   "execution_count": 37,
   "metadata": {},
   "outputs": [],
   "source": [
    "X_train = X[:len(shuffled_df)//2]\n",
    "y_train = y[:len(shuffled_df)//2]\n",
    "X_test = X[len(shuffled_df)//2:]\n",
    "y_test = y[len(shuffled_df)//2:]"
   ]
  },
  {
   "cell_type": "code",
   "execution_count": 38,
   "metadata": {},
   "outputs": [
    {
     "data": {
      "text/plain": [
       "SVC(C=1000, cache_size=200, class_weight=None, coef0=0.0,\n",
       "  decision_function_shape='ovr', degree=3, gamma='auto', kernel='sigmoid',\n",
       "  max_iter=-1, probability=False, random_state=None, shrinking=True,\n",
       "  tol=0.001, verbose=False)"
      ]
     },
     "execution_count": 38,
     "metadata": {},
     "output_type": "execute_result"
    }
   ],
   "source": [
    "clf = svm.SVC(C=1000, kernel='sigmoid')\n",
    "clf.fit(X_train, y_train)"
   ]
  },
  {
   "cell_type": "code",
   "execution_count": 122,
   "metadata": {},
   "outputs": [],
   "source": [
    "train_predictions = clf.predict(X_train)\n",
    "test_predictions = clf.predict(X_test)"
   ]
  },
  {
   "cell_type": "code",
   "execution_count": 126,
   "metadata": {},
   "outputs": [
    {
     "name": "stdout",
     "output_type": "stream",
     "text": [
      "Training accuracy was 0.62424\n",
      "Test accuracy was 0.63264\n"
     ]
    }
   ],
   "source": [
    "correct_train = (train_predictions == y_train)\n",
    "correct_test = (test_predictions == y_test)\n",
    "trainAcc = sum(correct_train) / len(correct_train)\n",
    "print(\"Training accuracy was \" + str(trainAcc))\n",
    "testAcc = sum(correct_test) / len(correct_test)\n",
    "print(\"Test accuracy was \" + str(testAcc))"
   ]
  },
  {
   "cell_type": "code",
   "execution_count": 127,
   "metadata": {},
   "outputs": [
    {
     "name": "stdout",
     "output_type": "stream",
     "text": [
      "0.36736\n"
     ]
    }
   ],
   "source": [
    "print(mean_squared_error(y_test, test_predictions))"
   ]
  },
  {
   "cell_type": "code",
   "execution_count": 125,
   "metadata": {},
   "outputs": [
    {
     "name": "stdout",
     "output_type": "stream",
     "text": [
      "0.6372612495953383\n",
      "0.6261132315521628\n"
     ]
    }
   ],
   "source": [
    "truepos, trueneg, falsepos, falseneg = 0,0,0,0\n",
    "for (a,b) in zip(test_predictions, y_test):\n",
    "    if a==True and b==True:\n",
    "        truepos+=1\n",
    "    elif a==False and b==False:\n",
    "        trueneg+=1\n",
    "    elif a==True and b==False:\n",
    "        falsepos+=1\n",
    "    else:\n",
    "        falseneg+=1\n",
    "precision = truepos / (truepos + falsepos)\n",
    "recall = truepos / (truepos + falseneg)\n",
    "print(precision)\n",
    "print(recall)"
   ]
  },
  {
   "cell_type": "markdown",
   "metadata": {},
   "source": [
    "## PCA for Feature Importance"
   ]
  },
  {
   "cell_type": "code",
   "execution_count": 43,
   "metadata": {},
   "outputs": [],
   "source": [
    "feature_df = df.drop(columns=['elite'])"
   ]
  },
  {
   "cell_type": "code",
   "execution_count": 46,
   "metadata": {},
   "outputs": [],
   "source": [
    "stds = []\n",
    "for d in feature_df:\n",
    "    stds.append(np.std(feature_df[d]))"
   ]
  },
  {
   "cell_type": "code",
   "execution_count": 47,
   "metadata": {},
   "outputs": [],
   "source": [
    "i=0\n",
    "for d in feature_df:\n",
    "    feature_df[d] = feature_df[d] / stds[i]\n",
    "    i=i+1"
   ]
  },
  {
   "cell_type": "code",
   "execution_count": 52,
   "metadata": {},
   "outputs": [],
   "source": [
    "pca = PCA(n_components=19)\n",
    "principalComponents = pca.fit_transform(feature_df)"
   ]
  },
  {
   "cell_type": "code",
   "execution_count": 53,
   "metadata": {},
   "outputs": [],
   "source": [
    "principalDf = pd.DataFrame(data = principalComponents, columns = ['PC1', 'PC2', 'PC3', 'PC4', 'PC5', 'PC6', 'PC7', 'PC8', 'PC9', 'PC10', 'PC11', 'PC12', 'PC13', 'PC14', 'PC15', 'PC16', 'PC17', 'PC18', 'PC19'])"
   ]
  },
  {
   "cell_type": "code",
   "execution_count": 56,
   "metadata": {},
   "outputs": [
    {
     "name": "stdout",
     "output_type": "stream",
     "text": [
      "Optimization terminated successfully.\n",
      "         Current function value: 0.091643\n",
      "         Iterations 9\n",
      "Optimization terminated successfully.\n",
      "         Current function value: 0.091648\n",
      "         Iterations 9\n",
      "Optimization terminated successfully.\n",
      "         Current function value: 0.090567\n",
      "         Iterations 9\n",
      "Optimization terminated successfully.\n",
      "         Current function value: 0.084070\n",
      "         Iterations 9\n",
      "Optimization terminated successfully.\n",
      "         Current function value: 0.083222\n",
      "         Iterations 9\n",
      "Optimization terminated successfully.\n",
      "         Current function value: 0.082459\n",
      "         Iterations 9\n",
      "Optimization terminated successfully.\n",
      "         Current function value: 0.082014\n",
      "         Iterations 9\n",
      "Optimization terminated successfully.\n",
      "         Current function value: 0.081351\n",
      "         Iterations 9\n",
      "Optimization terminated successfully.\n",
      "         Current function value: 0.081000\n",
      "         Iterations 9\n",
      "Optimization terminated successfully.\n",
      "         Current function value: 0.080961\n",
      "         Iterations 9\n",
      "Optimization terminated successfully.\n",
      "         Current function value: 0.071192\n",
      "         Iterations 10\n",
      "Optimization terminated successfully.\n",
      "         Current function value: 0.071217\n",
      "         Iterations 10\n",
      "Optimization terminated successfully.\n",
      "         Current function value: 0.070264\n",
      "         Iterations 10\n",
      "Optimization terminated successfully.\n",
      "         Current function value: 0.065007\n",
      "         Iterations 10\n",
      "Optimization terminated successfully.\n",
      "         Current function value: 0.064400\n",
      "         Iterations 10\n",
      "Optimization terminated successfully.\n",
      "         Current function value: 0.063746\n",
      "         Iterations 10\n",
      "Optimization terminated successfully.\n",
      "         Current function value: 0.063402\n",
      "         Iterations 10\n",
      "Optimization terminated successfully.\n",
      "         Current function value: 0.062810\n",
      "         Iterations 10\n",
      "Optimization terminated successfully.\n",
      "         Current function value: 0.062581\n",
      "         Iterations 10\n",
      "Optimization terminated successfully.\n",
      "         Current function value: 0.062599\n",
      "         Iterations 10\n",
      "Optimization terminated successfully.\n",
      "         Current function value: 0.067230\n",
      "         Iterations 10\n",
      "Optimization terminated successfully.\n",
      "         Current function value: 0.067270\n",
      "         Iterations 10\n",
      "Optimization terminated successfully.\n",
      "         Current function value: 0.066391\n",
      "         Iterations 10\n",
      "Optimization terminated successfully.\n",
      "         Current function value: 0.061380\n",
      "         Iterations 10\n",
      "Optimization terminated successfully.\n",
      "         Current function value: 0.060824\n",
      "         Iterations 10\n",
      "Optimization terminated successfully.\n",
      "         Current function value: 0.060198\n",
      "         Iterations 10\n",
      "Optimization terminated successfully.\n",
      "         Current function value: 0.059851\n",
      "         Iterations 10\n",
      "Optimization terminated successfully.\n",
      "         Current function value: 0.059308\n",
      "         Iterations 10\n",
      "Optimization terminated successfully.\n",
      "         Current function value: 0.059079\n",
      "         Iterations 10\n",
      "Optimization terminated successfully.\n",
      "         Current function value: 0.059115\n",
      "         Iterations 10\n",
      "Optimization terminated successfully.\n",
      "         Current function value: 0.065286\n",
      "         Iterations 10\n",
      "Optimization terminated successfully.\n",
      "         Current function value: 0.065310\n",
      "         Iterations 10\n",
      "Optimization terminated successfully.\n",
      "         Current function value: 0.064471\n",
      "         Iterations 10\n",
      "Optimization terminated successfully.\n",
      "         Current function value: 0.059622\n",
      "         Iterations 10\n",
      "Optimization terminated successfully.\n",
      "         Current function value: 0.059107\n",
      "         Iterations 10\n",
      "Optimization terminated successfully.\n",
      "         Current function value: 0.058526\n",
      "         Iterations 10\n",
      "Optimization terminated successfully.\n",
      "         Current function value: 0.058197\n",
      "         Iterations 10\n",
      "Optimization terminated successfully.\n",
      "         Current function value: 0.057649\n",
      "         Iterations 10\n",
      "Optimization terminated successfully.\n",
      "         Current function value: 0.057435\n",
      "         Iterations 10\n",
      "Optimization terminated successfully.\n",
      "         Current function value: 0.057452\n",
      "         Iterations 10\n",
      "Optimization terminated successfully.\n",
      "         Current function value: 0.064956\n",
      "         Iterations 10\n",
      "Optimization terminated successfully.\n",
      "         Current function value: 0.064978\n",
      "         Iterations 10\n",
      "Optimization terminated successfully.\n",
      "         Current function value: 0.064144\n",
      "         Iterations 10\n",
      "Optimization terminated successfully.\n",
      "         Current function value: 0.059330\n",
      "         Iterations 10\n",
      "Optimization terminated successfully.\n",
      "         Current function value: 0.058840\n",
      "         Iterations 10\n",
      "Optimization terminated successfully.\n",
      "         Current function value: 0.058275\n",
      "         Iterations 10\n",
      "Optimization terminated successfully.\n",
      "         Current function value: 0.057937\n",
      "         Iterations 10\n",
      "Optimization terminated successfully.\n",
      "         Current function value: 0.057392\n",
      "         Iterations 10\n",
      "Optimization terminated successfully.\n",
      "         Current function value: 0.057180\n",
      "         Iterations 10\n",
      "Optimization terminated successfully.\n",
      "         Current function value: 0.057204\n",
      "         Iterations 10\n",
      "Optimization terminated successfully.\n",
      "         Current function value: 0.062600\n",
      "         Iterations 10\n",
      "Optimization terminated successfully.\n",
      "         Current function value: 0.062606\n",
      "         Iterations 10\n",
      "Optimization terminated successfully.\n",
      "         Current function value: 0.061752\n",
      "         Iterations 10\n",
      "Optimization terminated successfully.\n",
      "         Current function value: 0.056919\n",
      "         Iterations 11\n",
      "Optimization terminated successfully.\n",
      "         Current function value: 0.056443\n",
      "         Iterations 11\n",
      "Optimization terminated successfully.\n",
      "         Current function value: 0.055813\n",
      "         Iterations 11\n",
      "Optimization terminated successfully.\n",
      "         Current function value: 0.055535\n",
      "         Iterations 11\n",
      "Optimization terminated successfully.\n",
      "         Current function value: 0.054970\n",
      "         Iterations 11\n",
      "Optimization terminated successfully.\n",
      "         Current function value: 0.054738\n",
      "         Iterations 11\n",
      "Optimization terminated successfully.\n",
      "         Current function value: 0.054762\n",
      "         Iterations 11\n",
      "Optimization terminated successfully.\n",
      "         Current function value: 0.062299\n",
      "         Iterations 10\n",
      "Optimization terminated successfully.\n",
      "         Current function value: 0.062299\n",
      "         Iterations 10\n",
      "Optimization terminated successfully.\n",
      "         Current function value: 0.061455\n",
      "         Iterations 10\n",
      "Optimization terminated successfully.\n",
      "         Current function value: 0.056662\n",
      "         Iterations 11\n",
      "Optimization terminated successfully.\n",
      "         Current function value: 0.056174\n",
      "         Iterations 11\n",
      "Optimization terminated successfully.\n",
      "         Current function value: 0.055551\n",
      "         Iterations 11\n",
      "Optimization terminated successfully.\n",
      "         Current function value: 0.055282\n",
      "         Iterations 11\n",
      "Optimization terminated successfully.\n",
      "         Current function value: 0.054724\n",
      "         Iterations 11\n",
      "Optimization terminated successfully.\n",
      "         Current function value: 0.054499\n",
      "         Iterations 11\n",
      "Optimization terminated successfully.\n",
      "         Current function value: 0.054513\n",
      "         Iterations 11\n",
      "Optimization terminated successfully.\n",
      "         Current function value: 0.062296\n",
      "         Iterations 10\n",
      "Optimization terminated successfully.\n",
      "         Current function value: 0.062296\n",
      "         Iterations 10\n",
      "Optimization terminated successfully.\n",
      "         Current function value: 0.061452\n",
      "         Iterations 10\n",
      "Optimization terminated successfully.\n",
      "         Current function value: 0.056659\n",
      "         Iterations 11\n",
      "Optimization terminated successfully.\n",
      "         Current function value: 0.056172\n",
      "         Iterations 11\n",
      "Optimization terminated successfully.\n",
      "         Current function value: 0.055548\n",
      "         Iterations 11\n",
      "Optimization terminated successfully.\n",
      "         Current function value: 0.055279\n",
      "         Iterations 11\n",
      "Optimization terminated successfully.\n",
      "         Current function value: 0.054721\n",
      "         Iterations 11\n",
      "Optimization terminated successfully.\n",
      "         Current function value: 0.054498\n",
      "         Iterations 11\n",
      "Optimization terminated successfully.\n",
      "         Current function value: 0.054511\n",
      "         Iterations 11\n"
     ]
    },
    {
     "name": "stdout",
     "output_type": "stream",
     "text": [
      "Optimization terminated successfully.\n",
      "         Current function value: 0.062255\n",
      "         Iterations 11\n",
      "Optimization terminated successfully.\n",
      "         Current function value: 0.062257\n",
      "         Iterations 11\n",
      "Optimization terminated successfully.\n",
      "         Current function value: 0.061409\n",
      "         Iterations 11\n",
      "Optimization terminated successfully.\n",
      "         Current function value: 0.056610\n",
      "         Iterations 11\n",
      "Optimization terminated successfully.\n",
      "         Current function value: 0.056125\n",
      "         Iterations 11\n",
      "Optimization terminated successfully.\n",
      "         Current function value: 0.055499\n",
      "         Iterations 11\n",
      "Optimization terminated successfully.\n",
      "         Current function value: 0.055226\n",
      "         Iterations 11\n",
      "Optimization terminated successfully.\n",
      "         Current function value: 0.054662\n",
      "         Iterations 11\n",
      "Optimization terminated successfully.\n",
      "         Current function value: 0.054448\n",
      "         Iterations 11\n",
      "Optimization terminated successfully.\n",
      "         Current function value: 0.054459\n",
      "         Iterations 11\n",
      "Optimization terminated successfully.\n",
      "         Current function value: 0.061994\n",
      "         Iterations 11\n",
      "Optimization terminated successfully.\n",
      "         Current function value: 0.062000\n",
      "         Iterations 11\n",
      "Optimization terminated successfully.\n",
      "         Current function value: 0.061151\n",
      "         Iterations 11\n",
      "Optimization terminated successfully.\n",
      "         Current function value: 0.056376\n",
      "         Iterations 11\n",
      "Optimization terminated successfully.\n",
      "         Current function value: 0.055882\n",
      "         Iterations 11\n",
      "Optimization terminated successfully.\n",
      "         Current function value: 0.055271\n",
      "         Iterations 11\n",
      "Optimization terminated successfully.\n",
      "         Current function value: 0.054996\n",
      "         Iterations 11\n",
      "Optimization terminated successfully.\n",
      "         Current function value: 0.054443\n",
      "         Iterations 11\n",
      "Optimization terminated successfully.\n",
      "         Current function value: 0.054229\n",
      "         Iterations 11\n",
      "Optimization terminated successfully.\n",
      "         Current function value: 0.054225\n",
      "         Iterations 11\n",
      "Optimization terminated successfully.\n",
      "         Current function value: 0.061576\n",
      "         Iterations 11\n",
      "Optimization terminated successfully.\n",
      "         Current function value: 0.061592\n",
      "         Iterations 11\n",
      "Optimization terminated successfully.\n",
      "         Current function value: 0.060738\n",
      "         Iterations 11\n",
      "Optimization terminated successfully.\n",
      "         Current function value: 0.055993\n",
      "         Iterations 11\n",
      "Optimization terminated successfully.\n",
      "         Current function value: 0.055493\n",
      "         Iterations 11\n",
      "Optimization terminated successfully.\n",
      "         Current function value: 0.054885\n",
      "         Iterations 11\n",
      "Optimization terminated successfully.\n",
      "         Current function value: 0.054642\n",
      "         Iterations 11\n",
      "Optimization terminated successfully.\n",
      "         Current function value: 0.054073\n",
      "         Iterations 11\n",
      "Optimization terminated successfully.\n",
      "         Current function value: 0.053860\n",
      "         Iterations 11\n",
      "Optimization terminated successfully.\n",
      "         Current function value: 0.053844\n",
      "         Iterations 11\n",
      "Optimization terminated successfully.\n",
      "         Current function value: 0.061576\n",
      "         Iterations 11\n",
      "Optimization terminated successfully.\n",
      "         Current function value: 0.061592\n",
      "         Iterations 11\n",
      "Optimization terminated successfully.\n",
      "         Current function value: 0.060738\n",
      "         Iterations 11\n",
      "Optimization terminated successfully.\n",
      "         Current function value: 0.055993\n",
      "         Iterations 11\n",
      "Optimization terminated successfully.\n",
      "         Current function value: 0.055493\n",
      "         Iterations 11\n",
      "Optimization terminated successfully.\n",
      "         Current function value: 0.054885\n",
      "         Iterations 11\n",
      "Optimization terminated successfully.\n",
      "         Current function value: 0.054642\n",
      "         Iterations 11\n",
      "Optimization terminated successfully.\n",
      "         Current function value: 0.054073\n",
      "         Iterations 11\n",
      "Optimization terminated successfully.\n",
      "         Current function value: 0.053860\n",
      "         Iterations 11\n",
      "Optimization terminated successfully.\n",
      "         Current function value: 0.053844\n",
      "         Iterations 11\n",
      "Optimization terminated successfully.\n",
      "         Current function value: 0.061569\n",
      "         Iterations 11\n",
      "Optimization terminated successfully.\n",
      "         Current function value: 0.061585\n",
      "         Iterations 11\n",
      "Optimization terminated successfully.\n",
      "         Current function value: 0.060731\n",
      "         Iterations 11\n",
      "Optimization terminated successfully.\n",
      "         Current function value: 0.055986\n",
      "         Iterations 11\n",
      "Optimization terminated successfully.\n",
      "         Current function value: 0.055488\n",
      "         Iterations 11\n",
      "Optimization terminated successfully.\n",
      "         Current function value: 0.054882\n",
      "         Iterations 11\n",
      "Optimization terminated successfully.\n",
      "         Current function value: 0.054637\n",
      "         Iterations 11\n",
      "Optimization terminated successfully.\n",
      "         Current function value: 0.054069\n",
      "         Iterations 11\n",
      "Optimization terminated successfully.\n",
      "         Current function value: 0.053855\n",
      "         Iterations 11\n",
      "Optimization terminated successfully.\n",
      "         Current function value: 0.053840\n",
      "         Iterations 11\n",
      "Optimization terminated successfully.\n",
      "         Current function value: 0.061492\n",
      "         Iterations 11\n",
      "Optimization terminated successfully.\n",
      "         Current function value: 0.061508\n",
      "         Iterations 11\n",
      "Optimization terminated successfully.\n",
      "         Current function value: 0.060653\n",
      "         Iterations 11\n",
      "Optimization terminated successfully.\n",
      "         Current function value: 0.055916\n",
      "         Iterations 11\n",
      "Optimization terminated successfully.\n",
      "         Current function value: 0.055421\n",
      "         Iterations 11\n",
      "Optimization terminated successfully.\n",
      "         Current function value: 0.054813\n",
      "         Iterations 11\n",
      "Optimization terminated successfully.\n",
      "         Current function value: 0.054568\n",
      "         Iterations 11\n",
      "Optimization terminated successfully.\n",
      "         Current function value: 0.053999\n",
      "         Iterations 11\n",
      "Optimization terminated successfully.\n",
      "         Current function value: 0.053781\n",
      "         Iterations 11\n",
      "Optimization terminated successfully.\n",
      "         Current function value: 0.053770\n",
      "         Iterations 11\n",
      "Optimization terminated successfully.\n",
      "         Current function value: 0.060465\n",
      "         Iterations 11\n",
      "Optimization terminated successfully.\n",
      "         Current function value: 0.060492\n",
      "         Iterations 11\n",
      "Optimization terminated successfully.\n",
      "         Current function value: 0.059647\n",
      "         Iterations 11\n",
      "Optimization terminated successfully.\n",
      "         Current function value: 0.055001\n",
      "         Iterations 11\n",
      "Optimization terminated successfully.\n",
      "         Current function value: 0.054538\n",
      "         Iterations 11\n",
      "Optimization terminated successfully.\n",
      "         Current function value: 0.053922\n",
      "         Iterations 11\n",
      "Optimization terminated successfully.\n",
      "         Current function value: 0.053672\n",
      "         Iterations 11\n",
      "Optimization terminated successfully.\n",
      "         Current function value: 0.053113\n",
      "         Iterations 11\n",
      "Optimization terminated successfully.\n",
      "         Current function value: 0.052908\n",
      "         Iterations 11\n",
      "Optimization terminated successfully.\n",
      "         Current function value: 0.052919\n",
      "         Iterations 11\n",
      "Optimization terminated successfully.\n",
      "         Current function value: 0.060404\n",
      "         Iterations 11\n",
      "Optimization terminated successfully.\n",
      "         Current function value: 0.060430\n",
      "         Iterations 11\n",
      "Optimization terminated successfully.\n",
      "         Current function value: 0.059590\n",
      "         Iterations 11\n",
      "Optimization terminated successfully.\n",
      "         Current function value: 0.054944\n",
      "         Iterations 11\n",
      "Optimization terminated successfully.\n",
      "         Current function value: 0.054488\n",
      "         Iterations 11\n",
      "Optimization terminated successfully.\n",
      "         Current function value: 0.053870\n",
      "         Iterations 11\n",
      "Optimization terminated successfully.\n",
      "         Current function value: 0.053619\n",
      "         Iterations 11\n",
      "Optimization terminated successfully.\n",
      "         Current function value: 0.053067\n",
      "         Iterations 11\n",
      "Optimization terminated successfully.\n",
      "         Current function value: 0.052853\n",
      "         Iterations 11\n",
      "Optimization terminated successfully.\n",
      "         Current function value: 0.052872\n",
      "         Iterations 11\n"
     ]
    },
    {
     "name": "stdout",
     "output_type": "stream",
     "text": [
      "Optimization terminated successfully.\n",
      "         Current function value: 0.060243\n",
      "         Iterations 11\n",
      "Optimization terminated successfully.\n",
      "         Current function value: 0.060272\n",
      "         Iterations 11\n",
      "Optimization terminated successfully.\n",
      "         Current function value: 0.059430\n",
      "         Iterations 11\n",
      "Optimization terminated successfully.\n",
      "         Current function value: 0.054799\n",
      "         Iterations 11\n",
      "Optimization terminated successfully.\n",
      "         Current function value: 0.054348\n",
      "         Iterations 11\n",
      "Optimization terminated successfully.\n",
      "         Current function value: 0.053724\n",
      "         Iterations 11\n",
      "Optimization terminated successfully.\n",
      "         Current function value: 0.053470\n",
      "         Iterations 11\n",
      "Optimization terminated successfully.\n",
      "         Current function value: 0.052932\n",
      "         Iterations 11\n",
      "Optimization terminated successfully.\n",
      "         Current function value: 0.052716\n",
      "         Iterations 11\n",
      "Optimization terminated successfully.\n",
      "         Current function value: 0.052739\n",
      "         Iterations 11\n",
      "Optimization terminated successfully.\n",
      "         Current function value: 0.055194\n",
      "         Iterations 11\n",
      "Optimization terminated successfully.\n",
      "         Current function value: 0.055220\n",
      "         Iterations 11\n",
      "Optimization terminated successfully.\n",
      "         Current function value: 0.054442\n",
      "         Iterations 11\n",
      "Optimization terminated successfully.\n",
      "         Current function value: 0.050090\n",
      "         Iterations 11\n",
      "Optimization terminated successfully.\n",
      "         Current function value: 0.049765\n",
      "         Iterations 11\n",
      "Optimization terminated successfully.\n",
      "         Current function value: 0.049176\n",
      "         Iterations 11\n",
      "Optimization terminated successfully.\n",
      "         Current function value: 0.048944\n",
      "         Iterations 11\n",
      "Optimization terminated successfully.\n",
      "         Current function value: 0.048446\n",
      "         Iterations 11\n",
      "Optimization terminated successfully.\n",
      "         Current function value: 0.048263\n",
      "         Iterations 11\n",
      "Optimization terminated successfully.\n",
      "         Current function value: 0.048241\n",
      "         Iterations 11\n",
      "Optimization terminated successfully.\n",
      "         Current function value: 0.054666\n",
      "         Iterations 11\n",
      "Optimization terminated successfully.\n",
      "         Current function value: 0.054690\n",
      "         Iterations 11\n",
      "Optimization terminated successfully.\n",
      "         Current function value: 0.053923\n",
      "         Iterations 11\n",
      "Optimization terminated successfully.\n",
      "         Current function value: 0.049637\n",
      "         Iterations 11\n",
      "Optimization terminated successfully.\n",
      "         Current function value: 0.049306\n",
      "         Iterations 11\n",
      "Optimization terminated successfully.\n",
      "         Current function value: 0.048722\n",
      "         Iterations 11\n",
      "Optimization terminated successfully.\n",
      "         Current function value: 0.048517\n",
      "         Iterations 11\n",
      "Optimization terminated successfully.\n",
      "         Current function value: 0.047997\n",
      "         Iterations 11\n",
      "Optimization terminated successfully.\n",
      "         Current function value: 0.047837\n",
      "         Iterations 11\n",
      "Optimization terminated successfully.\n",
      "         Current function value: 0.047817\n",
      "         Iterations 11\n"
     ]
    }
   ],
   "source": [
    "principalDf[\"elite\"] = df[\"elite\"]\n",
    "mse_train = []\n",
    "mse_test = []\n",
    "formula = 'elite ~ '\n",
    "k_used = []\n",
    "for k in principalDf:\n",
    "    if k == 'elite':\n",
    "        break\n",
    "    if not k_used:\n",
    "        formula = formula + k\n",
    "    else:\n",
    "        formula = formula + \" + \" + k\n",
    "    k_used.append(k)\n",
    "    \n",
    "    this_mse_train = []\n",
    "    this_mse_test = []\n",
    "    kf_col = k_used.copy()\n",
    "    kf_col.append('elite')\n",
    "    df = principalDf[kf_col]\n",
    "    kf = KFold(n_splits=10)\n",
    "    for train_index, test_index in kf.split(df):\n",
    "        df_train = df.iloc[train_index, :]\n",
    "        df_test = df.iloc[test_index, :]\n",
    "        mod = smf.logit(formula, data=df_train).fit()\n",
    "        yhat_train = mod.predict(df_train[k_used])\n",
    "        this_mse_train.append(mean_squared_error(df_train[\"elite\"], yhat_train))\n",
    "        yhat_test = mod.predict(df_test[k_used])\n",
    "        this_mse_test.append(mean_squared_error(df_test[\"elite\"], yhat_test))\n",
    "    mse_train.append(np.mean(this_mse_train))\n",
    "    mse_test.append(np.mean(this_mse_test))"
   ]
  },
  {
   "cell_type": "code",
   "execution_count": 60,
   "metadata": {},
   "outputs": [
    {
     "data": {
      "text/plain": [
       "Text(0.5,1,'Training and Testing MSE for Different #s of PCS')"
      ]
     },
     "execution_count": 60,
     "metadata": {},
     "output_type": "execute_result"
    },
    {
     "data": {
      "image/png": "[encoded data removed]",
      "text/plain": [
       "<Figure size 432x288 with 1 Axes>"
      ]
     },
     "metadata": {
      "needs_background": "light"
     },
     "output_type": "display_data"
    }
   ],
   "source": [
    "plt.plot(mse_train, label=\"Train\")\n",
    "plt.plot(mse_test, label=\"Test\")\n",
    "plt.legend()\n",
    "plt.xlabel(\"Number of Principal Components\")\n",
    "plt.ylabel(\"MSE\")\n",
    "plt.title(\"Training and Testing MSE for Different #s of PCS\")"
   ]
  },
  {
   "cell_type": "code",
   "execution_count": 76,
   "metadata": {},
   "outputs": [],
   "source": [
    "m = feature_df.columns.values"
   ]
  },
  {
   "cell_type": "code",
   "execution_count": 72,
   "metadata": {},
   "outputs": [],
   "source": [
    "r = [0.6377,0.2536,0.4974,0.3832,0.5476,0.002275,0.5460,0.1193,0.02428,0.01398,0.0014,0.06551,0.1235,0.1374,0.1786,0.1477,0.1183,0.05768,0.09875]"
   ]
  },
  {
   "cell_type": "code",
   "execution_count": 74,
   "metadata": {},
   "outputs": [],
   "source": [
    "metrics = pd.DataFrame({\"Metric\": m, \"R-Squared\": r})"
   ]
  },
  {
   "cell_type": "code",
   "execution_count": 80,
   "metadata": {},
   "outputs": [],
   "source": [
    "metrics = metrics.sort_values('R-Squared', ascending=False)"
   ]
  },
  {
   "cell_type": "code",
   "execution_count": 119,
   "metadata": {},
   "outputs": [],
   "source": [
    "metrics[\"Type\"] = [1,1,2,1,1,1,4,4,4,4,2,4,4,4,4,3,3,1,3]"
   ]
  },
  {
   "cell_type": "code",
   "execution_count": 102,
   "metadata": {},
   "outputs": [],
   "source": [
    "from matplotlib.lines import Line2D"
   ]
  },
  {
   "cell_type": "code",
   "execution_count": 113,
   "metadata": {},
   "outputs": [
    {
     "data": {
      "image/png": "[encoded data removed]",
      "text/plain": [
       "<Figure size 432x288 with 1 Axes>"
      ]
     },
     "metadata": {},
     "output_type": "display_data"
    }
   ],
   "source": [
    "plt.style.use('seaborn-darkgrid')\n",
    "palette = plt.get_cmap('Set1')\n",
    "plt.barh(metrics[\"Metric\"], metrics[\"R-Squared\"], color=palette(metrics[\"Type\"]))\n",
    "plt.xlabel(\"Pseudo R-Squared\")\n",
    "plt.ylabel(\"Metric\")\n",
    "plt.title(\"Pseudo R-Squared for Each Metric\")\n",
    "custom_lines = [Line2D([0], [0], color=palette(1), lw=4),\n",
    "                Line2D([0], [0], color=palette(2), lw=4),\n",
    "                Line2D([0], [0], color=palette(3), lw=4),\n",
    "                Line2D([0], [0], color=palette(4), lw=4)]\n",
    "label = [\"User Metric\", \"Friend Metric\", \"Tip Metric\", \"Review Metric\"]\n",
    "plt.legend(custom_lines, label)\n",
    "plt.show()"
   ]
  }
 ],
 "metadata": {
  "kernelspec": {
   "display_name": "Python 3",
   "language": "python",
   "name": "python3"
  },
  "language_info": {
   "codemirror_mode": {
    "name": "ipython",
    "version": 3
   },
   "file_extension": ".py",
   "mimetype": "text/x-python",
   "name": "python",
   "nbconvert_exporter": "python",
   "pygments_lexer": "ipython3",
   "version": "3.7.0"
  },
  "toc": {
   "base_numbering": 1,
   "nav_menu": {},
   "number_sections": true,
   "sideBar": true,
   "skip_h1_title": false,
   "title_cell": "Table of Contents",
   "title_sidebar": "Contents",
   "toc_cell": false,
   "toc_position": {},
   "toc_section_display": true,
   "toc_window_display": false
  }
 },
 "nbformat": 4,
 "nbformat_minor": 2
}
